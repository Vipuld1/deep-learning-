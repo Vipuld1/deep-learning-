{
  "cells": [
    {
      "cell_type": "code",
      "execution_count": 1,
      "metadata": {
        "id": "8RhfSIgn69Ij"
      },
      "outputs": [],
      "source": [
        "import numpy as np\n",
        "from keras.datasets import mnist\n",
        "from tensorflow.keras.utils import to_categorical\n",
        "from keras.models import Sequential\n",
        "from keras.layers import Conv2D,MaxPooling2D,Dense,Flatten\n",
        "import matplotlib.pyplot as plt"
      ]
    },
    {
      "cell_type": "code",
      "execution_count": 2,
      "metadata": {
        "colab": {
          "base_uri": "https://localhost:8080/"
        },
        "id": "B4RielruDFVf",
        "outputId": "805c4d38-a73a-4551-f8b8-f49e79089af7"
      },
      "outputs": [],
      "source": [
        "(x_train,y_train),(x_test,y_test) = mnist.load_data()"
      ]
    },
    {
      "cell_type": "code",
      "execution_count": 3,
      "metadata": {
        "colab": {
          "base_uri": "https://localhost:8080/"
        },
        "id": "lqfPhpwlIPwv",
        "outputId": "27bf9637-8d35-4fff-b6e0-1147c2d9c477"
      },
      "outputs": [
        {
          "name": "stdout",
          "output_type": "stream",
          "text": [
            "(60000, 28, 28)\n",
            "(60000,)\n",
            "(10000, 28, 28)\n",
            "(10000,)\n"
          ]
        },
        {
          "data": {
            "text/plain": [
              "(None, None, None, None)"
            ]
          },
          "execution_count": 3,
          "metadata": {},
          "output_type": "execute_result"
        }
      ],
      "source": [
        "print(x_train.shape),print(y_train.shape),print(x_test.shape),print(y_test.shape)  ### 10,000 images with size 28x28"
      ]
    },
    {
      "cell_type": "code",
      "execution_count": 4,
      "metadata": {
        "colab": {
          "base_uri": "https://localhost:8080/",
          "height": 265
        },
        "id": "_Qinpx__IauU",
        "outputId": "c5f7cc31-d418-446f-e81e-1018edecce2c"
      },
      "outputs": [
        {
          "data": {
            "image/png": "[encoded data removed]",
            "text/plain": [
              "<Figure size 640x480 with 1 Axes>"
            ]
          },
          "metadata": {},
          "output_type": "display_data"
        }
      ],
      "source": [
        "from matplotlib import image\n",
        "image_index= 100\n",
        "plt.imshow(x_train[image_index],cmap='gray')\n",
        "plt.show()"
      ]
    },
    {
      "cell_type": "code",
      "execution_count": 5,
      "metadata": {
        "colab": {
          "base_uri": "https://localhost:8080/"
        },
        "id": "-oK5R6yVJGH-",
        "outputId": "7d7c3325-3f95-4014-f00d-3c2fdc588b66"
      },
      "outputs": [
        {
          "name": "stdout",
          "output_type": "stream",
          "text": [
            "(60000, 28, 28, 1)\n",
            "(10000, 28, 28, 1)\n"
          ]
        }
      ],
      "source": [
        "### Reshaping the Dataset\n",
        "### Keras input format ( number of images, rows, columns, dimension of the image)\n",
        "x_train = x_train.reshape(x_train.shape[0],28,28,1)  ### 1 in-case of grey scale image and 3 in case of RGB image\n",
        "x_test = x_test.reshape(x_test.shape[0],28,28,1)\n",
        "print(x_train.shape)\n",
        "print(x_test.shape)"
      ]
    },
    {
      "cell_type": "code",
      "execution_count": 6,
      "metadata": {
        "id": "nMQKs24rJuXu"
      },
      "outputs": [],
      "source": [
        "### Data Scaling and normalization\n",
        "\"\"\"\n",
        "Done to make the algorithm run faster.\n",
        "Subtracting the values to distribute the values uniformly around 0\n",
        "\"\"\"\n",
        "\n",
        "### Explicitly converting the values to float so that we can get decimal points after division\n",
        "\n",
        "x_train = x_train.astype('float32')\n",
        "x_test = x_test.astype('float32')\n",
        "\n",
        "### Normalizing the RGB codes by dividing it to the max RGB value\n",
        "x_train /= 255- 0.5\n",
        "x_test /= 255- 0.5"
      ]
    },
    {
      "cell_type": "code",
      "execution_count": 7,
      "metadata": {
        "id": "iSDL7HDALgq3"
      },
      "outputs": [],
      "source": [
        "### Creating a Sequential model for CNN in keras\n",
        "\n",
        "num_filters = 8\n",
        "filter_size =  3   ### 3x3 dimension filter\n",
        "pool_size = 2   ### Pooling filter for maxpool layer is of size 2\n",
        "\n",
        "\n",
        "model = Sequential()\n",
        "model.add(Conv2D(num_filters,filter_size,strides=(1,1),input_shape=(28,28,1)))\n",
        "model.add(MaxPooling2D(pool_size=pool_size))\n",
        "model.add(Flatten())\n",
        "model.add(Dense(10,activation='softmax'))"
      ]
    },
    {
      "cell_type": "code",
      "execution_count": 8,
      "metadata": {
        "colab": {
          "base_uri": "https://localhost:8080/"
        },
        "id": "aeiLzE-jNwAJ",
        "outputId": "67b69e7e-5adf-4c3f-f825-988320bce33c"
      },
      "outputs": [
        {
          "name": "stdout",
          "output_type": "stream",
          "text": [
            "Model: \"sequential\"\n",
            "_________________________________________________________________\n",
            " Layer (type)                Output Shape              Param #   \n",
            "=================================================================\n",
            " conv2d (Conv2D)             (None, 26, 26, 8)         80        \n",
            "                                                                 \n",
            " max_pooling2d (MaxPooling2D  (None, 13, 13, 8)        0         \n",
            " )                                                               \n",
            "                                                                 \n",
            " flatten (Flatten)           (None, 1352)              0         \n",
            "                                                                 \n",
            " dense (Dense)               (None, 10)                13530     \n",
            "                                                                 \n",
            "=================================================================\n",
            "Total params: 13,610\n",
            "Trainable params: 13,610\n",
            "Non-trainable params: 0\n",
            "_________________________________________________________________\n"
          ]
        }
      ],
      "source": [
        "model.summary()"
      ]
    },
    {
      "cell_type": "code",
      "execution_count": 9,
      "metadata": {
        "colab": {
          "base_uri": "https://localhost:8080/"
        },
        "id": "Xuc8b_VhN0p-",
        "outputId": "94215eb2-89e8-474b-9ea8-18253dc8c5e7"
      },
      "outputs": [
        {
          "data": {
            "text/plain": [
              "[<tf.Variable 'conv2d/kernel:0' shape=(3, 3, 1, 8) dtype=float32, numpy=\n",
              " array([[[[ 0.21925613, -0.21749368,  0.07737625, -0.02238403,\n",
              "            0.00811589,  0.17325085,  0.08851767, -0.17420277]],\n",
              " \n",
              "         [[ 0.25774425,  0.22940981,  0.15148333, -0.08851714,\n",
              "            0.03410277, -0.27196893,  0.09268543,  0.09640482]],\n",
              " \n",
              "         [[ 0.10589924, -0.09095399,  0.18381333, -0.03728929,\n",
              "            0.18611243,  0.2538777 , -0.02276888,  0.24956548]]],\n",
              " \n",
              " \n",
              "        [[[ 0.13008946,  0.02764285, -0.17790347,  0.11932886,\n",
              "           -0.08738482, -0.22257537, -0.27066237, -0.01111871]],\n",
              " \n",
              "         [[ 0.23644781,  0.1594269 ,  0.06129712, -0.06342763,\n",
              "           -0.03406404, -0.20437124,  0.03092179,  0.03556481]],\n",
              " \n",
              "         [[ 0.11875179, -0.2137264 , -0.18448313, -0.13229369,\n",
              "            0.05102402,  0.2167171 , -0.10146095, -0.09106813]]],\n",
              " \n",
              " \n",
              "        [[[ 0.11027876, -0.152104  , -0.21136048,  0.0314475 ,\n",
              "            0.25504208,  0.20836511,  0.26152146,  0.08842358]],\n",
              " \n",
              "         [[ 0.14023003,  0.26206344, -0.2712959 , -0.03853127,\n",
              "            0.10924378, -0.21524423,  0.03288701,  0.13661519]],\n",
              " \n",
              "         [[-0.02237371,  0.00842777,  0.04723638, -0.10321775,\n",
              "           -0.00982925,  0.24736542,  0.26425207,  0.07225055]]]],\n",
              "       dtype=float32)>,\n",
              " <tf.Variable 'conv2d/bias:0' shape=(8,) dtype=float32, numpy=array([0., 0., 0., 0., 0., 0., 0., 0.], dtype=float32)>,\n",
              " <tf.Variable 'dense/kernel:0' shape=(1352, 10) dtype=float32, numpy=\n",
              " array([[ 0.0285764 ,  0.0435223 ,  0.02165238, ...,  0.02451262,\n",
              "          0.00540037, -0.02507181],\n",
              "        [ 0.02732873,  0.02389546, -0.05337338, ..., -0.01898402,\n",
              "          0.01879755, -0.01606015],\n",
              "        [-0.00303567, -0.03173606,  0.06414615, ...,  0.03613877,\n",
              "          0.04307719, -0.01493454],\n",
              "        ...,\n",
              "        [-0.0388052 , -0.02323874, -0.02380995, ..., -0.00275851,\n",
              "         -0.05205805,  0.00348667],\n",
              "        [ 0.04018299, -0.04648598,  0.01026154, ...,  0.02125751,\n",
              "          0.00372859, -0.03029156],\n",
              "        [-0.00099448, -0.04848744, -0.01829093, ..., -0.01327608,\n",
              "         -0.01377957, -0.05383537]], dtype=float32)>,\n",
              " <tf.Variable 'dense/bias:0' shape=(10,) dtype=float32, numpy=array([0., 0., 0., 0., 0., 0., 0., 0., 0., 0.], dtype=float32)>]"
            ]
          },
          "execution_count": 9,
          "metadata": {},
          "output_type": "execute_result"
        }
      ],
      "source": [
        "model.weights"
      ]
    },
    {
      "cell_type": "code",
      "execution_count": 10,
      "metadata": {
        "colab": {
          "base_uri": "https://localhost:8080/"
        },
        "id": "hUnN6HXrN-it",
        "outputId": "1c8f08b1-2881-4ede-c5d0-338995d80de5"
      },
      "outputs": [
        {
          "name": "stdout",
          "output_type": "stream",
          "text": [
            "Epoch 1/3\n",
            "1875/1875 [==============================] - 11s 5ms/step - loss: 0.3321 - accuracy: 0.9060 - val_loss: 0.2009 - val_accuracy: 0.9429\n",
            "Epoch 2/3\n",
            "1875/1875 [==============================] - 7s 4ms/step - loss: 0.1809 - accuracy: 0.9486 - val_loss: 0.1494 - val_accuracy: 0.9548\n",
            "Epoch 3/3\n",
            "1875/1875 [==============================] - 6s 3ms/step - loss: 0.1363 - accuracy: 0.9613 - val_loss: 0.1225 - val_accuracy: 0.9636\n"
          ]
        },
        {
          "data": {
            "text/plain": [
              "<keras.callbacks.History at 0x1d49cfa7880>"
            ]
          },
          "execution_count": 10,
          "metadata": {},
          "output_type": "execute_result"
        }
      ],
      "source": [
        "## compiling the model\n",
        "model.compile('adam',loss='categorical_crossentropy',metrics=['accuracy'])\n",
        "## Training the model\n",
        "model.fit(x_train,to_categorical(y_train),epochs = 3,verbose=1,validation_data=(x_test,to_categorical(y_test)),)"
      ]
    },
    {
      "cell_type": "code",
      "execution_count": 11,
      "metadata": {
        "colab": {
          "base_uri": "https://localhost:8080/"
        },
        "id": "jrOMGA-BOyMq",
        "outputId": "17069c9a-cb20-4143-8914-1342edb077e5"
      },
      "outputs": [
        {
          "name": "stdout",
          "output_type": "stream",
          "text": [
            "Test Loss: 0.12248709797859192\n",
            "Test Accuracy: 0.9635999798774719\n"
          ]
        }
      ],
      "source": [
        "score = model.evaluate(x_test,to_categorical(y_test),verbose=0)\n",
        "print('Test Loss:', score[0])\n",
        "print('Test Accuracy:',score[1])"
      ]
    },
    {
      "cell_type": "code",
      "execution_count": 12,
      "metadata": {
        "id": "3z9WJN8pReLF"
      },
      "outputs": [
        {
          "name": "stdout",
          "output_type": "stream",
          "text": [
            "1/1 [==============================] - 0s 78ms/step\n"
          ]
        }
      ],
      "source": [
        "### Predicting the first 5 images\n",
        "predictions = model.predict(x_test[:5])"
      ]
    },
    {
      "cell_type": "code",
      "execution_count": 13,
      "metadata": {
        "colab": {
          "base_uri": "https://localhost:8080/"
        },
        "id": "NwU91E77SrYw",
        "outputId": "b76cc098-842e-4d1f-bfe0-0d423b997c6a"
      },
      "outputs": [
        {
          "name": "stdout",
          "output_type": "stream",
          "text": [
            "[7 2 1 0 4]\n",
            "[7 2 1 0 4]\n"
          ]
        }
      ],
      "source": [
        "### Printing the models output, here we will be printing the max values of the \n",
        "print(np.argmax(predictions,axis=1)) ### Index Values for the Predected Image\n",
        "print(y_test[:5]) ### ### Index Values for the Actual Image"
      ]
    },
    {
      "cell_type": "code",
      "execution_count": null,
      "metadata": {
        "id": "VyGsFYm0edR4"
      },
      "outputs": [],
      "source": []
    }
  ],
  "metadata": {
    "colab": {
      "collapsed_sections": [],
      "provenance": []
    },
    "kernelspec": {
      "display_name": "Python 3.10.7 64-bit",
      "language": "python",
      "name": "python3"
    },
    "language_info": {
      "codemirror_mode": {
        "name": "ipython",
        "version": 3
      },
      "file_extension": ".py",
      "mimetype": "text/x-python",
      "name": "python",
      "nbconvert_exporter": "python",
      "pygments_lexer": "ipython3",
      "version": "3.10.7"
    },
    "vscode": {
      "interpreter": {
        "hash": "8ac39944b2ba2bbcb0061d8fe87e9d7b8b559740abe8f99ee18ab33eebdb0cd7"
      }
    }
  },
  "nbformat": 4,
  "nbformat_minor": 0
}
