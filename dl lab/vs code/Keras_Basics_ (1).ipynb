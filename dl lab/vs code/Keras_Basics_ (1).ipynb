{
  "cells": [
    {
      "cell_type": "code",
      "execution_count": 1,
      "metadata": {
        "id": "tMMTZPPssQYh"
      },
      "outputs": [],
      "source": [
        "## Installing Keras\n",
        "!pip install -q keras"
      ]
    },
    {
      "cell_type": "code",
      "execution_count": 2,
      "metadata": {
        "id": "01c_8X3Wsc1o"
      },
      "outputs": [],
      "source": [
        "import keras\n",
        "from keras.models import Sequential\n",
        "from keras.layers import Dense\n",
        "from keras.layers import LeakyReLU,PReLU,ELU\n",
        "from tensorflow.keras.utils import plot_model"
      ]
    },
    {
      "cell_type": "code",
      "execution_count": 3,
      "metadata": {
        "colab": {
          "base_uri": "https://localhost:8080/",
          "height": 392
        },
        "id": "RVHy_LSZvpvW",
        "outputId": "70907c28-1fc8-4b3f-9867-02bdca4429e4"
      },
      "outputs": [
        {
          "name": "stdout",
          "output_type": "stream",
          "text": [
            "Model: \"sequential\"\n",
            "_________________________________________________________________\n",
            " Layer (type)                Output Shape              Param #   \n",
            "=================================================================\n",
            " dense (Dense)               (None, 16)                144       \n",
            "                                                                 \n",
            "=================================================================\n",
            "Total params: 144\n",
            "Trainable params: 144\n",
            "Non-trainable params: 0\n",
            "_________________________________________________________________\n",
            "You must install pydot (`pip install pydot`) and install graphviz (see instructions at https://graphviz.gitlab.io/download/) for plot_model to work.\n"
          ]
        }
      ],
      "source": [
        "### Iniliatilizing the ANN\n",
        "\n",
        "model = Sequential()\n",
        "### Here Each layer receives neurons from the previous layers, therefore Densly connected AKA Fully connected Layers.\n",
        "### Here we have 8 input parameters. 16 depecits the number of neurons in 1st hidden layer.\n",
        "### Here the output dimension is 16. \n",
        "### follow the link to understand the calculation of trainable params: https://towardsdatascience.com/number-of-parameters-in-a-feed-forward-neural-network-4e4e33a53655\n",
        "### The None is the batch Size.\n",
        "\n",
        "model.add(Dense(16,input_shape = (8,))) \n",
        "model.summary() ### Returns the output struture of the model.\n",
        "plot_model(model,to_file='model_plot.png',show_shapes=True,show_layer_names=True)"
      ]
    },
    {
      "cell_type": "code",
      "execution_count": 4,
      "metadata": {
        "colab": {
          "base_uri": "https://localhost:8080/"
        },
        "id": "saTkrKJBpJil",
        "outputId": "a0a76790-f779-4308-9fc6-d2fdaa8ba73d"
      },
      "outputs": [
        {
          "data": {
            "text/plain": [
              "{'name': 'sequential',\n",
              " 'layers': [{'class_name': 'InputLayer',\n",
              "   'config': {'batch_input_shape': (None, 8),\n",
              "    'dtype': 'float32',\n",
              "    'sparse': False,\n",
              "    'ragged': False,\n",
              "    'name': 'dense_input'}},\n",
              "  {'class_name': 'Dense',\n",
              "   'config': {'name': 'dense',\n",
              "    'trainable': True,\n",
              "    'batch_input_shape': (None, 8),\n",
              "    'dtype': 'float32',\n",
              "    'units': 16,\n",
              "    'activation': 'linear',\n",
              "    'use_bias': True,\n",
              "    'kernel_initializer': {'class_name': 'GlorotUniform',\n",
              "     'config': {'seed': None}},\n",
              "    'bias_initializer': {'class_name': 'Zeros', 'config': {}},\n",
              "    'kernel_regularizer': None,\n",
              "    'bias_regularizer': None,\n",
              "    'activity_regularizer': None,\n",
              "    'kernel_constraint': None,\n",
              "    'bias_constraint': None}}]}"
            ]
          },
          "execution_count": 4,
          "metadata": {},
          "output_type": "execute_result"
        }
      ],
      "source": [
        "model.get_config() ## Displays the Model Details."
      ]
    },
    {
      "cell_type": "code",
      "execution_count": 5,
      "metadata": {
        "colab": {
          "base_uri": "https://localhost:8080/"
        },
        "id": "OMyu01lmq5Pj",
        "outputId": "9c530d63-ae5f-474b-bbee-0523bd32961d"
      },
      "outputs": [
        {
          "data": {
            "text/plain": [
              "[array([[ 0.11575973,  0.16660857,  0.3964144 ,  0.34855008, -0.3351853 ,\n",
              "          0.26792037,  0.10727251, -0.28062534, -0.28203487,  0.4019096 ,\n",
              "          0.35595262, -0.45787024,  0.1827687 , -0.04930687, -0.22633398,\n",
              "         -0.42589808],\n",
              "        [ 0.07091033,  0.1096046 ,  0.01430607,  0.4989736 ,  0.15600812,\n",
              "          0.3047464 , -0.37088132, -0.43512   ,  0.27095938, -0.10869324,\n",
              "         -0.2343502 ,  0.18306541, -0.10645032, -0.3972597 ,  0.1906991 ,\n",
              "         -0.18026853],\n",
              "        [ 0.38846803,  0.20791936,  0.47366405, -0.11945665, -0.38737893,\n",
              "         -0.33464444, -0.41534126,  0.22891212,  0.44426095,  0.0255425 ,\n",
              "         -0.2196151 , -0.15426254, -0.28760672, -0.3619511 , -0.08656096,\n",
              "          0.433892  ],\n",
              "        [ 0.3019247 , -0.01798272, -0.09155357, -0.45154095, -0.294356  ,\n",
              "          0.11341929, -0.341128  ,  0.30000067,  0.2184521 ,  0.30321217,\n",
              "         -0.38696206,  0.28930116, -0.11623788, -0.2470212 ,  0.0470078 ,\n",
              "         -0.1581304 ],\n",
              "        [ 0.26620066, -0.17606628,  0.34016407, -0.16296089, -0.4410019 ,\n",
              "         -0.30530477,  0.01249731, -0.06984818, -0.1864587 , -0.08674777,\n",
              "         -0.11277521, -0.22827125,  0.1815598 ,  0.21357882,  0.45929623,\n",
              "         -0.3668157 ],\n",
              "        [-0.03579187, -0.4730345 ,  0.17046773, -0.22187543,  0.08729506,\n",
              "          0.03171492,  0.13530219,  0.30102706, -0.10786319, -0.2142663 ,\n",
              "         -0.36769497,  0.36809683, -0.09893835,  0.4107672 ,  0.24265528,\n",
              "         -0.4824431 ],\n",
              "        [ 0.12937176,  0.15059972, -0.00975811, -0.20176709,  0.04506743,\n",
              "          0.47924078, -0.29998684, -0.28967905,  0.16372275, -0.15317118,\n",
              "          0.09888947,  0.3656062 , -0.4521091 ,  0.01721168, -0.33968413,\n",
              "          0.04350364],\n",
              "        [-0.1820178 ,  0.03414381, -0.29291153, -0.4057207 , -0.4923464 ,\n",
              "          0.03632593,  0.24791336, -0.01766717, -0.3794459 ,  0.23925745,\n",
              "          0.1381625 , -0.30942416, -0.23817575,  0.24582636, -0.49840808,\n",
              "          0.43481374]], dtype=float32),\n",
              " array([0., 0., 0., 0., 0., 0., 0., 0., 0., 0., 0., 0., 0., 0., 0., 0.],\n",
              "       dtype=float32)]"
            ]
          },
          "execution_count": 5,
          "metadata": {},
          "output_type": "execute_result"
        }
      ],
      "source": [
        "model.get_weights() ### Display the model weights."
      ]
    },
    {
      "cell_type": "code",
      "execution_count": 6,
      "metadata": {
        "id": "KkKhviu-rCiH"
      },
      "outputs": [],
      "source": [
        "from keras.layers import Dropout,Dense"
      ]
    },
    {
      "cell_type": "markdown",
      "metadata": {
        "id": "b_JB36UStJNC"
      },
      "source": [
        "DROPOUT Layer\n",
        "\n",
        "\n",
        "\n",
        "*   Use to treat the Overfitting case\n",
        "\n"
      ]
    },
    {
      "cell_type": "code",
      "execution_count": 7,
      "metadata": {
        "colab": {
          "base_uri": "https://localhost:8080/"
        },
        "id": "m6-LCHNDtkeo",
        "outputId": "d737c8f5-c1a6-424c-9911-9d95a38d03e4"
      },
      "outputs": [
        {
          "name": "stdout",
          "output_type": "stream",
          "text": [
            "Model: \"sequential_1\"\n",
            "_________________________________________________________________\n",
            " Layer (type)                Output Shape              Param #   \n",
            "=================================================================\n",
            " dense_1 (Dense)             (None, 16)                144       \n",
            "                                                                 \n",
            " dropout (Dropout)           (None, 16)                0         \n",
            "                                                                 \n",
            " dense_2 (Dense)             (None, 10)                170       \n",
            "                                                                 \n",
            "=================================================================\n",
            "Total params: 314\n",
            "Trainable params: 314\n",
            "Non-trainable params: 0\n",
            "_________________________________________________________________\n"
          ]
        }
      ],
      "source": [
        "model = Sequential()\n",
        "model.add(Dense(16,input_shape=(8,)))\n",
        "model.add(Dropout(.2))\n",
        "model.add(Dense(10))\n",
        "model.summary()"
      ]
    },
    {
      "cell_type": "code",
      "execution_count": 8,
      "metadata": {
        "id": "GGxktlNqt8ub"
      },
      "outputs": [],
      "source": [
        "from tensorflow.keras.layers import Dense,Flatten"
      ]
    },
    {
      "cell_type": "markdown",
      "metadata": {
        "id": "ZmsrLQ-tv5EL"
      },
      "source": [
        "FLATTEN Layer\n",
        "\n",
        "*   Used to flatten the input data.\n",
        "*   Used when we get multi-dimensional output from the previous layer and want to make it linear to pass it to the dense layer.\n",
        "\n",
        "\n"
      ]
    },
    {
      "cell_type": "code",
      "execution_count": 9,
      "metadata": {
        "colab": {
          "base_uri": "https://localhost:8080/",
          "height": 682
        },
        "id": "Uogo3akmxN-C",
        "outputId": "5f6f2753-ea1e-47d2-8f61-78968b4978d5"
      },
      "outputs": [
        {
          "name": "stdout",
          "output_type": "stream",
          "text": [
            "Model: \"sequential_2\"\n",
            "_________________________________________________________________\n",
            " Layer (type)                Output Shape              Param #   \n",
            "=================================================================\n",
            " dense_3 (Dense)             (None, 8, 16)             48        \n",
            "                                                                 \n",
            " flatten (Flatten)           (None, 128)               0         \n",
            "                                                                 \n",
            " dense_4 (Dense)             (None, 10)                1290      \n",
            "                                                                 \n",
            "=================================================================\n",
            "Total params: 1,338\n",
            "Trainable params: 1,338\n",
            "Non-trainable params: 0\n",
            "_________________________________________________________________\n",
            "You must install pydot (`pip install pydot`) and install graphviz (see instructions at https://graphviz.gitlab.io/download/) for plot_model to work.\n"
          ]
        }
      ],
      "source": [
        "model = Sequential()\n",
        "model.add(Dense(16,input_shape=(8,2)))\n",
        "model.add(Flatten())\n",
        "model.add(Dense(10))\n",
        "model.summary()\n",
        "plot_model(model,to_file='model_plot.png',show_shapes=True,show_layer_names=True)"
      ]
    },
    {
      "cell_type": "code",
      "execution_count": 10,
      "metadata": {
        "id": "Mds-wcaMxlxT"
      },
      "outputs": [],
      "source": [
        "from tensorflow.keras.layers import Dense,Permute\n",
        "import tensorflow"
      ]
    },
    {
      "cell_type": "markdown",
      "metadata": {
        "id": "UrVkaWqxyAMg"
      },
      "source": [
        "PERMUTE Layer:\n",
        "\n",
        "*   To change the shape of the input of the specific pattern\n",
        "\n",
        "initializer contains the technique which we need to use for inilializing the weights.\n",
        "to define the technique we make use of the argument, kernel_initializer.\n",
        "\n"
      ]
    },
    {
      "cell_type": "code",
      "execution_count": 11,
      "metadata": {
        "colab": {
          "base_uri": "https://localhost:8080/",
          "height": 538
        },
        "id": "dJJdIGZDy3k0",
        "outputId": "5483a49d-9fd3-4023-fa02-03a990a5841f"
      },
      "outputs": [
        {
          "name": "stdout",
          "output_type": "stream",
          "text": [
            "Model: \"sequential_3\"\n",
            "_________________________________________________________________\n",
            " Layer (type)                Output Shape              Param #   \n",
            "=================================================================\n",
            " dense_5 (Dense)             (None, 8, 16)             48        \n",
            "                                                                 \n",
            " permute (Permute)           (None, 16, 8)             0         \n",
            "                                                                 \n",
            "=================================================================\n",
            "Total params: 48\n",
            "Trainable params: 48\n",
            "Non-trainable params: 0\n",
            "_________________________________________________________________\n",
            "You must install pydot (`pip install pydot`) and install graphviz (see instructions at https://graphviz.gitlab.io/download/) for plot_model to work.\n"
          ]
        }
      ],
      "source": [
        "model = Sequential()\n",
        "initializer = tensorflow.keras.initializers.GlorotUniform() \n",
        "model.add(Dense(16,input_shape=(8,2),kernel_initializer=initializer))\n",
        "model.add(Permute((2,1)))\n",
        "model.summary()\n",
        "plot_model(model,to_file='model_plot.png',show_shapes=True,show_layer_names=True)"
      ]
    },
    {
      "cell_type": "code",
      "execution_count": null,
      "metadata": {
        "id": "GXPtGQcK4zoZ"
      },
      "outputs": [],
      "source": []
    },
    {
      "cell_type": "code",
      "execution_count": null,
      "metadata": {
        "id": "hqhOqnkY4zlz"
      },
      "outputs": [],
      "source": []
    },
    {
      "cell_type": "code",
      "execution_count": 12,
      "metadata": {
        "colab": {
          "base_uri": "https://localhost:8080/"
        },
        "id": "ATYCKkLcx-V2",
        "outputId": "f9f94d4d-723e-44d9-950c-a7e7561ef591"
      },
      "outputs": [
        {
          "name": "stdout",
          "output_type": "stream",
          "text": [
            "Object `Dense ### To understand the information about the layers, use ? and followed by the layer you need the information for` not found.\n"
          ]
        }
      ],
      "source": [
        "?Dense ### To understand the information about the layers, use ? and followed by the layer you need the information for"
      ]
    },
    {
      "cell_type": "markdown",
      "metadata": {
        "id": "hhPbwFMGAkOI"
      },
      "source": [
        "**INITIALIZERS**\n",
        "\n",
        "\n",
        "\n",
        "*   For the Dense Layer, we need to initilaize Weight Vector and Bias vector.\n",
        "*   Keras offers n number of built-in Iniliatilzers.\n",
        "https://keras.io/api/layers/initializers/#usage-of-initializers\n",
        "\n",
        "\n",
        "\n"
      ]
    },
    {
      "cell_type": "code",
      "execution_count": 13,
      "metadata": {
        "id": "A-zrthSyCBQx"
      },
      "outputs": [],
      "source": [
        "from keras import backend as k\n",
        "from keras.models import Sequential\n",
        "from keras.layers import Dense\n",
        "from keras.initializers import Constant\n",
        "import numpy as np"
      ]
    },
    {
      "cell_type": "code",
      "execution_count": 14,
      "metadata": {
        "id": "3zYXrC-aynDC"
      },
      "outputs": [],
      "source": [
        "initializers = ['zeros','ones',Constant(value=5),'RandomNormal','RandomUniform','TruncatedNormal','VarianceScaling','glorot_normal','glorot_uniform','he_normal','he_uniform']"
      ]
    },
    {
      "cell_type": "code",
      "execution_count": 15,
      "metadata": {
        "colab": {
          "base_uri": "https://localhost:8080/"
        },
        "id": "ombnJiLEB_yL",
        "outputId": "8e25e1ec-2908-4c5d-a971-f820aa403bcb"
      },
      "outputs": [
        {
          "name": "stdout",
          "output_type": "stream",
          "text": [
            "Initializer= zeros\n",
            "[array([[0., 0., 0., 0., 0.],\n",
            "       [0., 0., 0., 0., 0.]], dtype=float32), array([0., 0., 0., 0., 0.], dtype=float32)]\n",
            "\"\"\"\"\"\"\"\"\"\"\"\"\"\"\"\"\"\"\"\"\"\"\"\"\"\"\"\"\"\"\"\"\"\"\"\"\"\"\"\"\"\"\"\"\"\"\"\"\"\"\"\"\"\"\"\"\"\"\"\"\"\"\"\"\"\"\"\"\"\"\"\"\"\"\"\"\"\"\"\"\"\"\"\"\"\"\"\"\"\"\"\"\n",
            "Initializer= ones\n",
            "[array([[1., 1., 1., 1., 1.],\n",
            "       [1., 1., 1., 1., 1.]], dtype=float32), array([0., 0., 0., 0., 0.], dtype=float32)]\n",
            "\"\"\"\"\"\"\"\"\"\"\"\"\"\"\"\"\"\"\"\"\"\"\"\"\"\"\"\"\"\"\"\"\"\"\"\"\"\"\"\"\"\"\"\"\"\"\"\"\"\"\"\"\"\"\"\"\"\"\"\"\"\"\"\"\"\"\"\"\"\"\"\"\"\"\"\"\"\"\"\"\"\"\"\"\"\"\"\"\"\"\"\"\n",
            "Initializer= <keras.initializers.initializers_v2.Constant object at 0x0000021D2451CE20>\n",
            "[array([[5., 5., 5., 5., 5.],\n",
            "       [5., 5., 5., 5., 5.]], dtype=float32), array([0., 0., 0., 0., 0.], dtype=float32)]\n",
            "\"\"\"\"\"\"\"\"\"\"\"\"\"\"\"\"\"\"\"\"\"\"\"\"\"\"\"\"\"\"\"\"\"\"\"\"\"\"\"\"\"\"\"\"\"\"\"\"\"\"\"\"\"\"\"\"\"\"\"\"\"\"\"\"\"\"\"\"\"\"\"\"\"\"\"\"\"\"\"\"\"\"\"\"\"\"\"\"\"\"\"\"\n",
            "Initializer= RandomNormal\n",
            "[array([[ 0.03394835,  0.02644461,  0.01830019,  0.01432907, -0.0127025 ],\n",
            "       [ 0.00600316, -0.00038073,  0.04249261,  0.00744906, -0.04531238]],\n",
            "      dtype=float32), array([0., 0., 0., 0., 0.], dtype=float32)]\n",
            "\"\"\"\"\"\"\"\"\"\"\"\"\"\"\"\"\"\"\"\"\"\"\"\"\"\"\"\"\"\"\"\"\"\"\"\"\"\"\"\"\"\"\"\"\"\"\"\"\"\"\"\"\"\"\"\"\"\"\"\"\"\"\"\"\"\"\"\"\"\"\"\"\"\"\"\"\"\"\"\"\"\"\"\"\"\"\"\"\"\"\"\"\n",
            "Initializer= RandomUniform\n",
            "[array([[-0.03404506, -0.03112621, -0.04329948,  0.01578974, -0.01232153],\n",
            "       [ 0.01566309,  0.04018203, -0.04518649,  0.03052927,  0.04563978]],\n",
            "      dtype=float32), array([0., 0., 0., 0., 0.], dtype=float32)]\n",
            "\"\"\"\"\"\"\"\"\"\"\"\"\"\"\"\"\"\"\"\"\"\"\"\"\"\"\"\"\"\"\"\"\"\"\"\"\"\"\"\"\"\"\"\"\"\"\"\"\"\"\"\"\"\"\"\"\"\"\"\"\"\"\"\"\"\"\"\"\"\"\"\"\"\"\"\"\"\"\"\"\"\"\"\"\"\"\"\"\"\"\"\"\n",
            "Initializer= TruncatedNormal\n",
            "[array([[-0.00619948, -0.02590997, -0.08828305, -0.04704435,  0.01623055],\n",
            "       [-0.06487186, -0.01680373, -0.00823888,  0.01627434, -0.03529037]],\n",
            "      dtype=float32), array([0., 0., 0., 0., 0.], dtype=float32)]\n",
            "\"\"\"\"\"\"\"\"\"\"\"\"\"\"\"\"\"\"\"\"\"\"\"\"\"\"\"\"\"\"\"\"\"\"\"\"\"\"\"\"\"\"\"\"\"\"\"\"\"\"\"\"\"\"\"\"\"\"\"\"\"\"\"\"\"\"\"\"\"\"\"\"\"\"\"\"\"\"\"\"\"\"\"\"\"\"\"\"\"\"\"\"\n",
            "Initializer= VarianceScaling\n",
            "[array([[ 0.61982995,  1.1978439 ,  0.4715076 , -1.3946239 , -0.37193474],\n",
            "       [ 0.12681   , -0.19885607, -0.3382127 , -0.02450901,  0.23298958]],\n",
            "      dtype=float32), array([0., 0., 0., 0., 0.], dtype=float32)]\n",
            "\"\"\"\"\"\"\"\"\"\"\"\"\"\"\"\"\"\"\"\"\"\"\"\"\"\"\"\"\"\"\"\"\"\"\"\"\"\"\"\"\"\"\"\"\"\"\"\"\"\"\"\"\"\"\"\"\"\"\"\"\"\"\"\"\"\"\"\"\"\"\"\"\"\"\"\"\"\"\"\"\"\"\"\"\"\"\"\"\"\"\"\"\n",
            "Initializer= glorot_normal\n",
            "[array([[-0.73128086, -0.683986  , -0.1811022 , -0.46219298,  0.32010484],\n",
            "       [ 0.06081649, -0.56805706, -0.32723328, -0.53235406,  1.0795583 ]],\n",
            "      dtype=float32), array([0., 0., 0., 0., 0.], dtype=float32)]\n",
            "\"\"\"\"\"\"\"\"\"\"\"\"\"\"\"\"\"\"\"\"\"\"\"\"\"\"\"\"\"\"\"\"\"\"\"\"\"\"\"\"\"\"\"\"\"\"\"\"\"\"\"\"\"\"\"\"\"\"\"\"\"\"\"\"\"\"\"\"\"\"\"\"\"\"\"\"\"\"\"\"\"\"\"\"\"\"\"\"\"\"\"\"\n",
            "Initializer= glorot_uniform\n",
            "[array([[-0.8600658 , -0.8052499 , -0.23885733, -0.05983531, -0.8526558 ],\n",
            "       [ 0.9165398 , -0.38514948, -0.48357615, -0.1402399 , -0.29778278]],\n",
            "      dtype=float32), array([0., 0., 0., 0., 0.], dtype=float32)]\n",
            "\"\"\"\"\"\"\"\"\"\"\"\"\"\"\"\"\"\"\"\"\"\"\"\"\"\"\"\"\"\"\"\"\"\"\"\"\"\"\"\"\"\"\"\"\"\"\"\"\"\"\"\"\"\"\"\"\"\"\"\"\"\"\"\"\"\"\"\"\"\"\"\"\"\"\"\"\"\"\"\"\"\"\"\"\"\"\"\"\"\"\"\"\n",
            "Initializer= he_normal\n",
            "[array([[-2.2680945 ,  1.5637274 ,  0.4196166 , -0.20848346,  1.9059125 ],\n",
            "       [ 0.03810503,  0.6251099 ,  0.96020037,  1.7616231 , -1.6276546 ]],\n",
            "      dtype=float32), array([0., 0., 0., 0., 0.], dtype=float32)]\n",
            "\"\"\"\"\"\"\"\"\"\"\"\"\"\"\"\"\"\"\"\"\"\"\"\"\"\"\"\"\"\"\"\"\"\"\"\"\"\"\"\"\"\"\"\"\"\"\"\"\"\"\"\"\"\"\"\"\"\"\"\"\"\"\"\"\"\"\"\"\"\"\"\"\"\"\"\"\"\"\"\"\"\"\"\"\"\"\"\"\"\"\"\"\n",
            "Initializer= he_uniform\n",
            "[array([[ 0.40467584, -0.6533463 ,  0.46236908,  1.1824957 ,  0.5837101 ],\n",
            "       [-1.301432  ,  0.1459434 , -1.5421143 , -0.6304711 , -1.2201765 ]],\n",
            "      dtype=float32), array([0., 0., 0., 0., 0.], dtype=float32)]\n",
            "\"\"\"\"\"\"\"\"\"\"\"\"\"\"\"\"\"\"\"\"\"\"\"\"\"\"\"\"\"\"\"\"\"\"\"\"\"\"\"\"\"\"\"\"\"\"\"\"\"\"\"\"\"\"\"\"\"\"\"\"\"\"\"\"\"\"\"\"\"\"\"\"\"\"\"\"\"\"\"\"\"\"\"\"\"\"\"\"\"\"\"\"\n"
          ]
        }
      ],
      "source": [
        "np.random.seed(1)\n",
        "\n",
        "for init in initializers:\n",
        "  print(\"Initializer=\",init)\n",
        "  model=Sequential([Dense(5,input_dim=2,kernel_initializer=init)])\n",
        "\n",
        "  for layer in model.layers:\n",
        "    weights=layer.get_weights()\n",
        "    print(weights)\n",
        "\n",
        "  print('\"\"\"\"\"\"\"\"\"\"\"\"\"\"\"\"\"\"\"\"\"\"\"\"\"\"\"\"\"\"\"\"\"\"\"\"\"\"\"\"\"\"\"\"\"\"\"\"\"\"\"\"\"\"\"\"\"\"\"\"\"\"\"\"\"\"\"\"\"\"\"\"\"\"\"\"\"\"\"\"\"\"\"\"\"\"\"\"\"\"\"\"')\n"
      ]
    },
    {
      "cell_type": "markdown",
      "metadata": {
        "id": "OK1qtowRDzxv"
      },
      "source": [
        "In the above case, we didnt initialized the bias,Therefore the bias vector will always be zero"
      ]
    },
    {
      "cell_type": "code",
      "execution_count": null,
      "metadata": {
        "id": "d32LP-kzDVy5"
      },
      "outputs": [],
      "source": []
    }
  ],
  "metadata": {
    "colab": {
      "collapsed_sections": [],
      "provenance": []
    },
    "kernelspec": {
      "display_name": "Python 3.10.7 64-bit",
      "language": "python",
      "name": "python3"
    },
    "language_info": {
      "codemirror_mode": {
        "name": "ipython",
        "version": 3
      },
      "file_extension": ".py",
      "mimetype": "text/x-python",
      "name": "python",
      "nbconvert_exporter": "python",
      "pygments_lexer": "ipython3",
      "version": "3.10.7"
    },
    "vscode": {
      "interpreter": {
        "hash": "8ac39944b2ba2bbcb0061d8fe87e9d7b8b559740abe8f99ee18ab33eebdb0cd7"
      }
    }
  },
  "nbformat": 4,
  "nbformat_minor": 0
}
