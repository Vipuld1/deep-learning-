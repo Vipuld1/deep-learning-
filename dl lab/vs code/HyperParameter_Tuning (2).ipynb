{
  "cells": [
    {
      "cell_type": "code",
      "execution_count": 22,
      "metadata": {
        "id": "Ag8fEn90twGE"
      },
      "outputs": [
        {
          "name": "stdout",
          "output_type": "stream",
          "text": [
            "Requirement already satisfied: keras-tuner in c:\\users\\vipul\\appdata\\local\\programs\\python\\python310\\lib\\site-packages (1.1.3)\n",
            "Requirement already satisfied: kt-legacy in c:\\users\\vipul\\appdata\\local\\programs\\python\\python310\\lib\\site-packages (from keras-tuner) (1.0.4)\n",
            "Requirement already satisfied: ipython in c:\\users\\vipul\\appdata\\roaming\\python\\python310\\site-packages (from keras-tuner) (8.6.0)\n",
            "Requirement already satisfied: tensorboard in c:\\users\\vipul\\appdata\\local\\programs\\python\\python310\\lib\\site-packages (from keras-tuner) (2.10.1)\n",
            "Requirement already satisfied: numpy in c:\\users\\vipul\\appdata\\local\\programs\\python\\python310\\lib\\site-packages (from keras-tuner) (1.23.4)\n",
            "Requirement already satisfied: requests in c:\\users\\vipul\\appdata\\local\\programs\\python\\python310\\lib\\site-packages (from keras-tuner) (2.28.1)\n",
            "Requirement already satisfied: packaging in c:\\users\\vipul\\appdata\\roaming\\python\\python310\\site-packages (from keras-tuner) (21.3)\n",
            "Requirement already satisfied: colorama in c:\\users\\vipul\\appdata\\roaming\\python\\python310\\site-packages (from ipython->keras-tuner) (0.4.6)\n",
            "Requirement already satisfied: traitlets>=5 in c:\\users\\vipul\\appdata\\roaming\\python\\python310\\site-packages (from ipython->keras-tuner) (5.5.0)\n",
            "Requirement already satisfied: jedi>=0.16 in c:\\users\\vipul\\appdata\\roaming\\python\\python310\\site-packages (from ipython->keras-tuner) (0.18.1)\n",
            "Requirement already satisfied: stack-data in c:\\users\\vipul\\appdata\\roaming\\python\\python310\\site-packages (from ipython->keras-tuner) (0.6.0)\n",
            "Requirement already satisfied: backcall in c:\\users\\vipul\\appdata\\roaming\\python\\python310\\site-packages (from ipython->keras-tuner) (0.2.0)\n",
            "Requirement already satisfied: pickleshare in c:\\users\\vipul\\appdata\\roaming\\python\\python310\\site-packages (from ipython->keras-tuner) (0.7.5)\n",
            "Requirement already satisfied: pygments>=2.4.0 in c:\\users\\vipul\\appdata\\roaming\\python\\python310\\site-packages (from ipython->keras-tuner) (2.13.0)\n",
            "Requirement already satisfied: decorator in c:\\users\\vipul\\appdata\\roaming\\python\\python310\\site-packages (from ipython->keras-tuner) (5.1.1)\n",
            "Requirement already satisfied: matplotlib-inline in c:\\users\\vipul\\appdata\\roaming\\python\\python310\\site-packages (from ipython->keras-tuner) (0.1.6)\n",
            "Requirement already satisfied: prompt-toolkit<3.1.0,>3.0.1 in c:\\users\\vipul\\appdata\\roaming\\python\\python310\\site-packages (from ipython->keras-tuner) (3.0.32)\n",
            "Requirement already satisfied: pyparsing!=3.0.5,>=2.0.2 in c:\\users\\vipul\\appdata\\roaming\\python\\python310\\site-packages (from packaging->keras-tuner) (3.0.9)\n",
            "Requirement already satisfied: idna<4,>=2.5 in c:\\users\\vipul\\appdata\\local\\programs\\python\\python310\\lib\\site-packages (from requests->keras-tuner) (3.4)\n",
            "Requirement already satisfied: charset-normalizer<3,>=2 in c:\\users\\vipul\\appdata\\local\\programs\\python\\python310\\lib\\site-packages (from requests->keras-tuner) (2.1.1)\n",
            "Requirement already satisfied: urllib3<1.27,>=1.21.1 in c:\\users\\vipul\\appdata\\local\\programs\\python\\python310\\lib\\site-packages (from requests->keras-tuner) (1.26.12)\n",
            "Requirement already satisfied: certifi>=2017.4.17 in c:\\users\\vipul\\appdata\\local\\programs\\python\\python310\\lib\\site-packages (from requests->keras-tuner) (2022.9.24)\n",
            "Requirement already satisfied: tensorboard-plugin-wit>=1.6.0 in c:\\users\\vipul\\appdata\\local\\programs\\python\\python310\\lib\\site-packages (from tensorboard->keras-tuner) (1.8.1)\n",
            "Requirement already satisfied: setuptools>=41.0.0 in c:\\users\\vipul\\appdata\\local\\programs\\python\\python310\\lib\\site-packages (from tensorboard->keras-tuner) (63.2.0)\n",
            "Requirement already satisfied: grpcio>=1.24.3 in c:\\users\\vipul\\appdata\\local\\programs\\python\\python310\\lib\\site-packages (from tensorboard->keras-tuner) (1.50.0)\n",
            "Requirement already satisfied: tensorboard-data-server<0.7.0,>=0.6.0 in c:\\users\\vipul\\appdata\\local\\programs\\python\\python310\\lib\\site-packages (from tensorboard->keras-tuner) (0.6.1)\n",
            "Requirement already satisfied: werkzeug>=1.0.1 in c:\\users\\vipul\\appdata\\local\\programs\\python\\python310\\lib\\site-packages (from tensorboard->keras-tuner) (2.2.2)\n",
            "Requirement already satisfied: google-auth<3,>=1.6.3 in c:\\users\\vipul\\appdata\\local\\programs\\python\\python310\\lib\\site-packages (from tensorboard->keras-tuner) (2.14.0)\n",
            "Requirement already satisfied: google-auth-oauthlib<0.5,>=0.4.1 in c:\\users\\vipul\\appdata\\local\\programs\\python\\python310\\lib\\site-packages (from tensorboard->keras-tuner) (0.4.6)\n",
            "Requirement already satisfied: markdown>=2.6.8 in c:\\users\\vipul\\appdata\\local\\programs\\python\\python310\\lib\\site-packages (from tensorboard->keras-tuner) (3.4.1)\n",
            "Requirement already satisfied: wheel>=0.26 in c:\\users\\vipul\\appdata\\local\\programs\\python\\python310\\lib\\site-packages (from tensorboard->keras-tuner) (0.38.2)\n",
            "Requirement already satisfied: absl-py>=0.4 in c:\\users\\vipul\\appdata\\local\\programs\\python\\python310\\lib\\site-packages (from tensorboard->keras-tuner) (1.3.0)\n",
            "Requirement already satisfied: protobuf<3.20,>=3.9.2 in c:\\users\\vipul\\appdata\\local\\programs\\python\\python310\\lib\\site-packages (from tensorboard->keras-tuner) (3.19.6)\n",
            "Requirement already satisfied: pyasn1-modules>=0.2.1 in c:\\users\\vipul\\appdata\\local\\programs\\python\\python310\\lib\\site-packages (from google-auth<3,>=1.6.3->tensorboard->keras-tuner) (0.2.8)\n",
            "Requirement already satisfied: rsa<5,>=3.1.4 in c:\\users\\vipul\\appdata\\local\\programs\\python\\python310\\lib\\site-packages (from google-auth<3,>=1.6.3->tensorboard->keras-tuner) (4.9)\n",
            "Requirement already satisfied: six>=1.9.0 in c:\\users\\vipul\\appdata\\roaming\\python\\python310\\site-packages (from google-auth<3,>=1.6.3->tensorboard->keras-tuner) (1.16.0)\n",
            "Requirement already satisfied: cachetools<6.0,>=2.0.0 in c:\\users\\vipul\\appdata\\local\\programs\\python\\python310\\lib\\site-packages (from google-auth<3,>=1.6.3->tensorboard->keras-tuner) (5.2.0)\n",
            "Requirement already satisfied: requests-oauthlib>=0.7.0 in c:\\users\\vipul\\appdata\\local\\programs\\python\\python310\\lib\\site-packages (from google-auth-oauthlib<0.5,>=0.4.1->tensorboard->keras-tuner) (1.3.1)\n",
            "Requirement already satisfied: parso<0.9.0,>=0.8.0 in c:\\users\\vipul\\appdata\\roaming\\python\\python310\\site-packages (from jedi>=0.16->ipython->keras-tuner) (0.8.3)\n",
            "Requirement already satisfied: wcwidth in c:\\users\\vipul\\appdata\\roaming\\python\\python310\\site-packages (from prompt-toolkit<3.1.0,>3.0.1->ipython->keras-tuner) (0.2.5)\n",
            "Requirement already satisfied: MarkupSafe>=2.1.1 in c:\\users\\vipul\\appdata\\local\\programs\\python\\python310\\lib\\site-packages (from werkzeug>=1.0.1->tensorboard->keras-tuner) (2.1.1)\n",
            "Requirement already satisfied: executing>=1.2.0 in c:\\users\\vipul\\appdata\\roaming\\python\\python310\\site-packages (from stack-data->ipython->keras-tuner) (1.2.0)\n",
            "Requirement already satisfied: pure-eval in c:\\users\\vipul\\appdata\\roaming\\python\\python310\\site-packages (from stack-data->ipython->keras-tuner) (0.2.2)\n",
            "Requirement already satisfied: asttokens>=2.1.0 in c:\\users\\vipul\\appdata\\roaming\\python\\python310\\site-packages (from stack-data->ipython->keras-tuner) (2.1.0)\n",
            "Requirement already satisfied: pyasn1<0.5.0,>=0.4.6 in c:\\users\\vipul\\appdata\\local\\programs\\python\\python310\\lib\\site-packages (from pyasn1-modules>=0.2.1->google-auth<3,>=1.6.3->tensorboard->keras-tuner) (0.4.8)\n",
            "Requirement already satisfied: oauthlib>=3.0.0 in c:\\users\\vipul\\appdata\\local\\programs\\python\\python310\\lib\\site-packages (from requests-oauthlib>=0.7.0->google-auth-oauthlib<0.5,>=0.4.1->tensorboard->keras-tuner) (3.2.2)\n"
          ]
        }
      ],
      "source": [
        "!pip install -U keras-tuner"
      ]
    },
    {
      "cell_type": "code",
      "execution_count": 23,
      "metadata": {
        "id": "k0yHsXepOzMV"
      },
      "outputs": [
        {
          "name": "stderr",
          "output_type": "stream",
          "text": [
            "UsageError: Line magic function `%tensorflow_version` not found.\n"
          ]
        }
      ],
      "source": [
        "%tensorflow_version 2.x\n",
        "import tensorflow as tf\n",
        "device_name = tf.test.gpu_device_name()\n",
        "if device_name != '/device:GPU:0':\n",
        "  raise SystemError('GPU device not found')\n",
        "print('Found GPU at: {}'.format(device_name))"
      ]
    },
    {
      "cell_type": "code",
      "execution_count": 24,
      "metadata": {
        "id": "tkHin3KbAc5h"
      },
      "outputs": [
        {
          "name": "stdout",
          "output_type": "stream",
          "text": [
            "Requirement already satisfied: keras-tuner in c:\\users\\vipul\\appdata\\local\\programs\\python\\python310\\lib\\site-packages (1.1.3)\n",
            "Requirement already satisfied: kt-legacy in c:\\users\\vipul\\appdata\\local\\programs\\python\\python310\\lib\\site-packages (from keras-tuner) (1.0.4)\n",
            "Requirement already satisfied: ipython in c:\\users\\vipul\\appdata\\roaming\\python\\python310\\site-packages (from keras-tuner) (8.6.0)\n",
            "Requirement already satisfied: packaging in c:\\users\\vipul\\appdata\\roaming\\python\\python310\\site-packages (from keras-tuner) (21.3)\n",
            "Requirement already satisfied: numpy in c:\\users\\vipul\\appdata\\local\\programs\\python\\python310\\lib\\site-packages (from keras-tuner) (1.23.4)\n",
            "Requirement already satisfied: tensorboard in c:\\users\\vipul\\appdata\\local\\programs\\python\\python310\\lib\\site-packages (from keras-tuner) (2.10.1)\n",
            "Requirement already satisfied: requests in c:\\users\\vipul\\appdata\\local\\programs\\python\\python310\\lib\\site-packages (from keras-tuner) (2.28.1)\n",
            "Requirement already satisfied: colorama in c:\\users\\vipul\\appdata\\roaming\\python\\python310\\site-packages (from ipython->keras-tuner) (0.4.6)\n",
            "Requirement already satisfied: pygments>=2.4.0 in c:\\users\\vipul\\appdata\\roaming\\python\\python310\\site-packages (from ipython->keras-tuner) (2.13.0)\n",
            "Requirement already satisfied: stack-data in c:\\users\\vipul\\appdata\\roaming\\python\\python310\\site-packages (from ipython->keras-tuner) (0.6.0)\n",
            "Requirement already satisfied: decorator in c:\\users\\vipul\\appdata\\roaming\\python\\python310\\site-packages (from ipython->keras-tuner) (5.1.1)\n",
            "Requirement already satisfied: traitlets>=5 in c:\\users\\vipul\\appdata\\roaming\\python\\python310\\site-packages (from ipython->keras-tuner) (5.5.0)\n",
            "Requirement already satisfied: backcall in c:\\users\\vipul\\appdata\\roaming\\python\\python310\\site-packages (from ipython->keras-tuner) (0.2.0)\n",
            "Requirement already satisfied: prompt-toolkit<3.1.0,>3.0.1 in c:\\users\\vipul\\appdata\\roaming\\python\\python310\\site-packages (from ipython->keras-tuner) (3.0.32)\n",
            "Requirement already satisfied: jedi>=0.16 in c:\\users\\vipul\\appdata\\roaming\\python\\python310\\site-packages (from ipython->keras-tuner) (0.18.1)\n",
            "Requirement already satisfied: pickleshare in c:\\users\\vipul\\appdata\\roaming\\python\\python310\\site-packages (from ipython->keras-tuner) (0.7.5)\n",
            "Requirement already satisfied: matplotlib-inline in c:\\users\\vipul\\appdata\\roaming\\python\\python310\\site-packages (from ipython->keras-tuner) (0.1.6)\n",
            "Requirement already satisfied: pyparsing!=3.0.5,>=2.0.2 in c:\\users\\vipul\\appdata\\roaming\\python\\python310\\site-packages (from packaging->keras-tuner) (3.0.9)\n",
            "Requirement already satisfied: urllib3<1.27,>=1.21.1 in c:\\users\\vipul\\appdata\\local\\programs\\python\\python310\\lib\\site-packages (from requests->keras-tuner) (1.26.12)\n",
            "Requirement already satisfied: certifi>=2017.4.17 in c:\\users\\vipul\\appdata\\local\\programs\\python\\python310\\lib\\site-packages (from requests->keras-tuner) (2022.9.24)\n",
            "Requirement already satisfied: idna<4,>=2.5 in c:\\users\\vipul\\appdata\\local\\programs\\python\\python310\\lib\\site-packages (from requests->keras-tuner) (3.4)\n",
            "Requirement already satisfied: charset-normalizer<3,>=2 in c:\\users\\vipul\\appdata\\local\\programs\\python\\python310\\lib\\site-packages (from requests->keras-tuner) (2.1.1)\n",
            "Requirement already satisfied: markdown>=2.6.8 in c:\\users\\vipul\\appdata\\local\\programs\\python\\python310\\lib\\site-packages (from tensorboard->keras-tuner) (3.4.1)\n",
            "Requirement already satisfied: google-auth-oauthlib<0.5,>=0.4.1 in c:\\users\\vipul\\appdata\\local\\programs\\python\\python310\\lib\\site-packages (from tensorboard->keras-tuner) (0.4.6)\n",
            "Requirement already satisfied: google-auth<3,>=1.6.3 in c:\\users\\vipul\\appdata\\local\\programs\\python\\python310\\lib\\site-packages (from tensorboard->keras-tuner) (2.14.0)\n",
            "Requirement already satisfied: wheel>=0.26 in c:\\users\\vipul\\appdata\\local\\programs\\python\\python310\\lib\\site-packages (from tensorboard->keras-tuner) (0.38.2)\n",
            "Requirement already satisfied: tensorboard-plugin-wit>=1.6.0 in c:\\users\\vipul\\appdata\\local\\programs\\python\\python310\\lib\\site-packages (from tensorboard->keras-tuner) (1.8.1)\n",
            "Requirement already satisfied: setuptools>=41.0.0 in c:\\users\\vipul\\appdata\\local\\programs\\python\\python310\\lib\\site-packages (from tensorboard->keras-tuner) (63.2.0)\n",
            "Requirement already satisfied: tensorboard-data-server<0.7.0,>=0.6.0 in c:\\users\\vipul\\appdata\\local\\programs\\python\\python310\\lib\\site-packages (from tensorboard->keras-tuner) (0.6.1)\n",
            "Requirement already satisfied: grpcio>=1.24.3 in c:\\users\\vipul\\appdata\\local\\programs\\python\\python310\\lib\\site-packages (from tensorboard->keras-tuner) (1.50.0)\n",
            "Requirement already satisfied: protobuf<3.20,>=3.9.2 in c:\\users\\vipul\\appdata\\local\\programs\\python\\python310\\lib\\site-packages (from tensorboard->keras-tuner) (3.19.6)\n",
            "Requirement already satisfied: absl-py>=0.4 in c:\\users\\vipul\\appdata\\local\\programs\\python\\python310\\lib\\site-packages (from tensorboard->keras-tuner) (1.3.0)\n",
            "Requirement already satisfied: werkzeug>=1.0.1 in c:\\users\\vipul\\appdata\\local\\programs\\python\\python310\\lib\\site-packages (from tensorboard->keras-tuner) (2.2.2)\n",
            "Requirement already satisfied: rsa<5,>=3.1.4 in c:\\users\\vipul\\appdata\\local\\programs\\python\\python310\\lib\\site-packages (from google-auth<3,>=1.6.3->tensorboard->keras-tuner) (4.9)\n",
            "Requirement already satisfied: six>=1.9.0 in c:\\users\\vipul\\appdata\\roaming\\python\\python310\\site-packages (from google-auth<3,>=1.6.3->tensorboard->keras-tuner) (1.16.0)\n",
            "Requirement already satisfied: pyasn1-modules>=0.2.1 in c:\\users\\vipul\\appdata\\local\\programs\\python\\python310\\lib\\site-packages (from google-auth<3,>=1.6.3->tensorboard->keras-tuner) (0.2.8)\n",
            "Requirement already satisfied: cachetools<6.0,>=2.0.0 in c:\\users\\vipul\\appdata\\local\\programs\\python\\python310\\lib\\site-packages (from google-auth<3,>=1.6.3->tensorboard->keras-tuner) (5.2.0)\n",
            "Requirement already satisfied: requests-oauthlib>=0.7.0 in c:\\users\\vipul\\appdata\\local\\programs\\python\\python310\\lib\\site-packages (from google-auth-oauthlib<0.5,>=0.4.1->tensorboard->keras-tuner) (1.3.1)\n",
            "Requirement already satisfied: parso<0.9.0,>=0.8.0 in c:\\users\\vipul\\appdata\\roaming\\python\\python310\\site-packages (from jedi>=0.16->ipython->keras-tuner) (0.8.3)\n",
            "Requirement already satisfied: wcwidth in c:\\users\\vipul\\appdata\\roaming\\python\\python310\\site-packages (from prompt-toolkit<3.1.0,>3.0.1->ipython->keras-tuner) (0.2.5)\n",
            "Requirement already satisfied: MarkupSafe>=2.1.1 in c:\\users\\vipul\\appdata\\local\\programs\\python\\python310\\lib\\site-packages (from werkzeug>=1.0.1->tensorboard->keras-tuner) (2.1.1)\n",
            "Requirement already satisfied: pure-eval in c:\\users\\vipul\\appdata\\roaming\\python\\python310\\site-packages (from stack-data->ipython->keras-tuner) (0.2.2)\n",
            "Requirement already satisfied: asttokens>=2.1.0 in c:\\users\\vipul\\appdata\\roaming\\python\\python310\\site-packages (from stack-data->ipython->keras-tuner) (2.1.0)\n",
            "Requirement already satisfied: executing>=1.2.0 in c:\\users\\vipul\\appdata\\roaming\\python\\python310\\site-packages (from stack-data->ipython->keras-tuner) (1.2.0)\n",
            "Requirement already satisfied: pyasn1<0.5.0,>=0.4.6 in c:\\users\\vipul\\appdata\\local\\programs\\python\\python310\\lib\\site-packages (from pyasn1-modules>=0.2.1->google-auth<3,>=1.6.3->tensorboard->keras-tuner) (0.4.8)\n",
            "Requirement already satisfied: oauthlib>=3.0.0 in c:\\users\\vipul\\appdata\\local\\programs\\python\\python310\\lib\\site-packages (from requests-oauthlib>=0.7.0->google-auth-oauthlib<0.5,>=0.4.1->tensorboard->keras-tuner) (3.2.2)\n"
          ]
        }
      ],
      "source": [
        "!pip install keras-tuner --upgrade"
      ]
    },
    {
      "cell_type": "code",
      "execution_count": 25,
      "metadata": {
        "id": "aSuiVnoZuEJy"
      },
      "outputs": [],
      "source": [
        "import pandas as pd\n",
        "from tensorflow import keras\n",
        "from keras import layers\n",
        "from keras_tuner.tuners import RandomSearch"
      ]
    },
    {
      "cell_type": "code",
      "execution_count": 26,
      "metadata": {
        "id": "3dRhSrHjvkc2"
      },
      "outputs": [],
      "source": [
        "data = pd.read_csv(\"C:/Users/vipul/OneDrive/Desktop/dl dataset/Tetuan City power consumption.csv\")"
      ]
    },
    {
      "cell_type": "code",
      "execution_count": 27,
      "metadata": {
        "colab": {
          "base_uri": "https://localhost:8080/",
          "height": 305
        },
        "id": "Dq0SpEBNwm24",
        "outputId": "96b873d2-84f9-49b2-d70c-8a12f099d075"
      },
      "outputs": [
        {
          "data": {
            "text/html": [
              "<div>\n",
              "<style scoped>\n",
              "    .dataframe tbody tr th:only-of-type {\n",
              "        vertical-align: middle;\n",
              "    }\n",
              "\n",
              "    .dataframe tbody tr th {\n",
              "        vertical-align: top;\n",
              "    }\n",
              "\n",
              "    .dataframe thead th {\n",
              "        text-align: right;\n",
              "    }\n",
              "</style>\n",
              "<table border=\"1\" class=\"dataframe\">\n",
              "  <thead>\n",
              "    <tr style=\"text-align: right;\">\n",
              "      <th></th>\n",
              "      <th>Temperature</th>\n",
              "      <th>Humidity</th>\n",
              "      <th>Wind Speed</th>\n",
              "      <th>general diffuse flows</th>\n",
              "      <th>diffuse flows</th>\n",
              "      <th>Zone 1 Power Consumption</th>\n",
              "      <th>Zone 2  Power Consumption</th>\n",
              "      <th>Zone 3  Power Consumption</th>\n",
              "    </tr>\n",
              "  </thead>\n",
              "  <tbody>\n",
              "    <tr>\n",
              "      <th>0</th>\n",
              "      <td>6.559</td>\n",
              "      <td>73.8</td>\n",
              "      <td>0.083</td>\n",
              "      <td>0.051</td>\n",
              "      <td>0.119</td>\n",
              "      <td>34055.69620</td>\n",
              "      <td>16128.87538</td>\n",
              "      <td>20240.96386</td>\n",
              "    </tr>\n",
              "    <tr>\n",
              "      <th>1</th>\n",
              "      <td>6.414</td>\n",
              "      <td>74.5</td>\n",
              "      <td>0.083</td>\n",
              "      <td>0.070</td>\n",
              "      <td>0.085</td>\n",
              "      <td>29814.68354</td>\n",
              "      <td>19375.07599</td>\n",
              "      <td>20131.08434</td>\n",
              "    </tr>\n",
              "    <tr>\n",
              "      <th>2</th>\n",
              "      <td>6.313</td>\n",
              "      <td>74.5</td>\n",
              "      <td>0.080</td>\n",
              "      <td>0.062</td>\n",
              "      <td>0.100</td>\n",
              "      <td>29128.10127</td>\n",
              "      <td>19006.68693</td>\n",
              "      <td>19668.43373</td>\n",
              "    </tr>\n",
              "    <tr>\n",
              "      <th>3</th>\n",
              "      <td>6.121</td>\n",
              "      <td>75.0</td>\n",
              "      <td>0.083</td>\n",
              "      <td>0.091</td>\n",
              "      <td>0.096</td>\n",
              "      <td>28228.86076</td>\n",
              "      <td>18361.09422</td>\n",
              "      <td>18899.27711</td>\n",
              "    </tr>\n",
              "    <tr>\n",
              "      <th>4</th>\n",
              "      <td>5.921</td>\n",
              "      <td>75.7</td>\n",
              "      <td>0.081</td>\n",
              "      <td>0.048</td>\n",
              "      <td>0.085</td>\n",
              "      <td>27335.69620</td>\n",
              "      <td>17872.34043</td>\n",
              "      <td>18442.40964</td>\n",
              "    </tr>\n",
              "  </tbody>\n",
              "</table>\n",
              "</div>"
            ],
            "text/plain": [
              "   Temperature  Humidity  Wind Speed  general diffuse flows  diffuse flows  \\\n",
              "0        6.559      73.8       0.083                  0.051          0.119   \n",
              "1        6.414      74.5       0.083                  0.070          0.085   \n",
              "2        6.313      74.5       0.080                  0.062          0.100   \n",
              "3        6.121      75.0       0.083                  0.091          0.096   \n",
              "4        5.921      75.7       0.081                  0.048          0.085   \n",
              "\n",
              "   Zone 1 Power Consumption  Zone 2  Power Consumption  \\\n",
              "0               34055.69620                16128.87538   \n",
              "1               29814.68354                19375.07599   \n",
              "2               29128.10127                19006.68693   \n",
              "3               28228.86076                18361.09422   \n",
              "4               27335.69620                17872.34043   \n",
              "\n",
              "   Zone 3  Power Consumption  \n",
              "0                20240.96386  \n",
              "1                20131.08434  \n",
              "2                19668.43373  \n",
              "3                18899.27711  \n",
              "4                18442.40964  "
            ]
          },
          "execution_count": 27,
          "metadata": {},
          "output_type": "execute_result"
        }
      ],
      "source": [
        "data.head()"
      ]
    },
    {
      "cell_type": "code",
      "execution_count": 28,
      "metadata": {
        "colab": {
          "base_uri": "https://localhost:8080/",
          "height": 399
        },
        "id": "kfh6EyPfwqLS",
        "outputId": "297af8d3-fd86-4eba-9c6b-0c50c0b412f4"
      },
      "outputs": [
        {
          "data": {
            "text/html": [
              "<div>\n",
              "<style scoped>\n",
              "    .dataframe tbody tr th:only-of-type {\n",
              "        vertical-align: middle;\n",
              "    }\n",
              "\n",
              "    .dataframe tbody tr th {\n",
              "        vertical-align: top;\n",
              "    }\n",
              "\n",
              "    .dataframe thead th {\n",
              "        text-align: right;\n",
              "    }\n",
              "</style>\n",
              "<table border=\"1\" class=\"dataframe\">\n",
              "  <thead>\n",
              "    <tr style=\"text-align: right;\">\n",
              "      <th></th>\n",
              "      <th>Temperature</th>\n",
              "      <th>Humidity</th>\n",
              "      <th>Wind Speed</th>\n",
              "      <th>general diffuse flows</th>\n",
              "      <th>diffuse flows</th>\n",
              "      <th>Zone 1 Power Consumption</th>\n",
              "      <th>Zone 2  Power Consumption</th>\n",
              "      <th>Zone 3  Power Consumption</th>\n",
              "    </tr>\n",
              "  </thead>\n",
              "  <tbody>\n",
              "    <tr>\n",
              "      <th>count</th>\n",
              "      <td>52416.000000</td>\n",
              "      <td>52416.000000</td>\n",
              "      <td>52416.000000</td>\n",
              "      <td>52416.000000</td>\n",
              "      <td>52416.000000</td>\n",
              "      <td>52416.000000</td>\n",
              "      <td>52416.000000</td>\n",
              "      <td>52416.000000</td>\n",
              "    </tr>\n",
              "    <tr>\n",
              "      <th>mean</th>\n",
              "      <td>18.810024</td>\n",
              "      <td>68.259518</td>\n",
              "      <td>1.959489</td>\n",
              "      <td>182.696614</td>\n",
              "      <td>75.028022</td>\n",
              "      <td>32344.970564</td>\n",
              "      <td>21042.509082</td>\n",
              "      <td>17835.406218</td>\n",
              "    </tr>\n",
              "    <tr>\n",
              "      <th>std</th>\n",
              "      <td>5.815476</td>\n",
              "      <td>15.551177</td>\n",
              "      <td>2.348862</td>\n",
              "      <td>264.400960</td>\n",
              "      <td>124.210949</td>\n",
              "      <td>7130.562564</td>\n",
              "      <td>5201.465892</td>\n",
              "      <td>6622.165099</td>\n",
              "    </tr>\n",
              "    <tr>\n",
              "      <th>min</th>\n",
              "      <td>3.247000</td>\n",
              "      <td>11.340000</td>\n",
              "      <td>0.050000</td>\n",
              "      <td>0.004000</td>\n",
              "      <td>0.011000</td>\n",
              "      <td>13895.696200</td>\n",
              "      <td>8560.081466</td>\n",
              "      <td>5935.174070</td>\n",
              "    </tr>\n",
              "    <tr>\n",
              "      <th>25%</th>\n",
              "      <td>14.410000</td>\n",
              "      <td>58.310000</td>\n",
              "      <td>0.078000</td>\n",
              "      <td>0.062000</td>\n",
              "      <td>0.122000</td>\n",
              "      <td>26310.668692</td>\n",
              "      <td>16980.766032</td>\n",
              "      <td>13129.326630</td>\n",
              "    </tr>\n",
              "    <tr>\n",
              "      <th>50%</th>\n",
              "      <td>18.780000</td>\n",
              "      <td>69.860000</td>\n",
              "      <td>0.086000</td>\n",
              "      <td>5.035500</td>\n",
              "      <td>4.456000</td>\n",
              "      <td>32265.920340</td>\n",
              "      <td>20823.168405</td>\n",
              "      <td>16415.117470</td>\n",
              "    </tr>\n",
              "    <tr>\n",
              "      <th>75%</th>\n",
              "      <td>22.890000</td>\n",
              "      <td>81.400000</td>\n",
              "      <td>4.915000</td>\n",
              "      <td>319.600000</td>\n",
              "      <td>101.000000</td>\n",
              "      <td>37309.018185</td>\n",
              "      <td>24713.717520</td>\n",
              "      <td>21624.100420</td>\n",
              "    </tr>\n",
              "    <tr>\n",
              "      <th>max</th>\n",
              "      <td>40.010000</td>\n",
              "      <td>94.800000</td>\n",
              "      <td>6.483000</td>\n",
              "      <td>1163.000000</td>\n",
              "      <td>936.000000</td>\n",
              "      <td>52204.395120</td>\n",
              "      <td>37408.860760</td>\n",
              "      <td>47598.326360</td>\n",
              "    </tr>\n",
              "  </tbody>\n",
              "</table>\n",
              "</div>"
            ],
            "text/plain": [
              "        Temperature      Humidity    Wind Speed  general diffuse flows  \\\n",
              "count  52416.000000  52416.000000  52416.000000           52416.000000   \n",
              "mean      18.810024     68.259518      1.959489             182.696614   \n",
              "std        5.815476     15.551177      2.348862             264.400960   \n",
              "min        3.247000     11.340000      0.050000               0.004000   \n",
              "25%       14.410000     58.310000      0.078000               0.062000   \n",
              "50%       18.780000     69.860000      0.086000               5.035500   \n",
              "75%       22.890000     81.400000      4.915000             319.600000   \n",
              "max       40.010000     94.800000      6.483000            1163.000000   \n",
              "\n",
              "       diffuse flows  Zone 1 Power Consumption  Zone 2  Power Consumption  \\\n",
              "count   52416.000000              52416.000000               52416.000000   \n",
              "mean       75.028022              32344.970564               21042.509082   \n",
              "std       124.210949               7130.562564                5201.465892   \n",
              "min         0.011000              13895.696200                8560.081466   \n",
              "25%         0.122000              26310.668692               16980.766032   \n",
              "50%         4.456000              32265.920340               20823.168405   \n",
              "75%       101.000000              37309.018185               24713.717520   \n",
              "max       936.000000              52204.395120               37408.860760   \n",
              "\n",
              "       Zone 3  Power Consumption  \n",
              "count               52416.000000  \n",
              "mean                17835.406218  \n",
              "std                  6622.165099  \n",
              "min                  5935.174070  \n",
              "25%                 13129.326630  \n",
              "50%                 16415.117470  \n",
              "75%                 21624.100420  \n",
              "max                 47598.326360  "
            ]
          },
          "execution_count": 28,
          "metadata": {},
          "output_type": "execute_result"
        }
      ],
      "source": [
        "data.describe()"
      ]
    },
    {
      "cell_type": "code",
      "execution_count": 29,
      "metadata": {
        "id": "ozHzGXuTHlBB"
      },
      "outputs": [],
      "source": [
        "X=data.iloc[:,:-1]\n",
        "Y=data.iloc[:,-1]"
      ]
    },
    {
      "cell_type": "code",
      "execution_count": 30,
      "metadata": {
        "id": "K9JVnf5bH8eA"
      },
      "outputs": [],
      "source": [
        "from sklearn.model_selection import train_test_split\n",
        "X_train,X_test,Y_train,Y_test = train_test_split(X,Y,test_size=3,random_state=5)"
      ]
    },
    {
      "cell_type": "code",
      "execution_count": 31,
      "metadata": {
        "colab": {
          "base_uri": "https://localhost:8080/"
        },
        "id": "5e6F6-u8LHSq",
        "outputId": "1c529f11-ccc1-4238-ed30-8dcb98e28d59"
      },
      "outputs": [
        {
          "data": {
            "text/plain": [
              "((52413, 7), (52413,), (3, 7), (3,))"
            ]
          },
          "execution_count": 31,
          "metadata": {},
          "output_type": "execute_result"
        }
      ],
      "source": [
        "X_train.shape,Y_train.shape,X_test.shape,Y_test.shape"
      ]
    },
    {
      "cell_type": "code",
      "execution_count": 32,
      "metadata": {
        "colab": {
          "base_uri": "https://localhost:8080/"
        },
        "id": "HRFWO6LALRgJ",
        "outputId": "344551a1-212e-4b72-a241-9658e6fc51c0"
      },
      "outputs": [
        {
          "data": {
            "text/plain": [
              "(52416,)"
            ]
          },
          "execution_count": 32,
          "metadata": {},
          "output_type": "execute_result"
        }
      ],
      "source": [
        "Y.shape"
      ]
    },
    {
      "cell_type": "code",
      "execution_count": 33,
      "metadata": {
        "id": "XwbDcNFKIu9j"
      },
      "outputs": [],
      "source": [
        "x_train= X_train.values.reshape(-1, 1)\n",
        "x_test = X_test.values.reshape(-1, 1)\n",
        "y_train= Y_train.values.reshape(-1, 1)\n",
        "y_test = Y_test.values.reshape(-1, 1)"
      ]
    },
    {
      "cell_type": "code",
      "execution_count": 34,
      "metadata": {
        "id": "aDSigNulHGHN"
      },
      "outputs": [],
      "source": [
        "# data normalization with sklearn\n",
        "from sklearn.preprocessing import MinMaxScaler\n",
        "\n",
        "# fit scaler on training data\n",
        "norm = MinMaxScaler().fit(x_train)\n",
        "\n",
        "# transform training data\n",
        "X_train_norm = norm.transform(x_train)\n",
        "\n",
        "# transform testing dataabs\n",
        "X_test_norm = norm.transform(x_test)"
      ]
    },
    {
      "cell_type": "code",
      "execution_count": 35,
      "metadata": {
        "id": "aDFrbFhhIjye"
      },
      "outputs": [],
      "source": [
        "def build_model(hp):\n",
        "    model = keras.Sequential()\n",
        "    for i in range(hp.Int('num_layers', 2, 20)):\n",
        "        model.add(layers.Dense(units=hp.Int('units_' + str(i),\n",
        "                                            min_value=32,\n",
        "                                            max_value=512,\n",
        "                                            step=32),\n",
        "                               activation='relu'))\n",
        "    model.add(layers.Dense(1, activation='linear'))\n",
        "    model.compile(\n",
        "        optimizer=keras.optimizers.Adam(\n",
        "            hp.Choice('learning_rate', [1e-2, 1e-3, 1e-4])),\n",
        "        loss='mean_absolute_error',\n",
        "        metrics=['mean_absolute_error'])\n",
        "    return model"
      ]
    },
    {
      "cell_type": "code",
      "execution_count": 36,
      "metadata": {
        "id": "AdiHQXHSJI_7"
      },
      "outputs": [
        {
          "name": "stdout",
          "output_type": "stream",
          "text": [
            "INFO:tensorflow:Reloading Oracle from existing project project\\Power Consumption1\\oracle.json\n",
            "INFO:tensorflow:Reloading Tuner from project\\Power Consumption1\\tuner0.json\n"
          ]
        }
      ],
      "source": [
        "tuner = RandomSearch(\n",
        "    build_model,\n",
        "    objective='val_mean_absolute_error',\n",
        "    max_trials=5,\n",
        "    executions_per_trial=3,\n",
        "    directory='project',\n",
        "    project_name='Power Consumption1')"
      ]
    },
    {
      "cell_type": "code",
      "execution_count": 37,
      "metadata": {
        "id": "niosIW1pJN5e"
      },
      "outputs": [
        {
          "name": "stdout",
          "output_type": "stream",
          "text": [
            "Search space summary\n",
            "Default search space size: 22\n",
            "num_layers (Int)\n",
            "{'default': None, 'conditions': [], 'min_value': 2, 'max_value': 20, 'step': 1, 'sampling': None}\n",
            "units_0 (Int)\n",
            "{'default': None, 'conditions': [], 'min_value': 32, 'max_value': 512, 'step': 32, 'sampling': None}\n",
            "units_1 (Int)\n",
            "{'default': None, 'conditions': [], 'min_value': 32, 'max_value': 512, 'step': 32, 'sampling': None}\n",
            "learning_rate (Choice)\n",
            "{'default': 0.01, 'conditions': [], 'values': [0.01, 0.001, 0.0001], 'ordered': True}\n",
            "units_2 (Int)\n",
            "{'default': None, 'conditions': [], 'min_value': 32, 'max_value': 512, 'step': 32, 'sampling': None}\n",
            "units_3 (Int)\n",
            "{'default': None, 'conditions': [], 'min_value': 32, 'max_value': 512, 'step': 32, 'sampling': None}\n",
            "units_4 (Int)\n",
            "{'default': None, 'conditions': [], 'min_value': 32, 'max_value': 512, 'step': 32, 'sampling': None}\n",
            "units_5 (Int)\n",
            "{'default': None, 'conditions': [], 'min_value': 32, 'max_value': 512, 'step': 32, 'sampling': None}\n",
            "units_6 (Int)\n",
            "{'default': None, 'conditions': [], 'min_value': 32, 'max_value': 512, 'step': 32, 'sampling': None}\n",
            "units_7 (Int)\n",
            "{'default': None, 'conditions': [], 'min_value': 32, 'max_value': 512, 'step': 32, 'sampling': None}\n",
            "units_8 (Int)\n",
            "{'default': None, 'conditions': [], 'min_value': 32, 'max_value': 512, 'step': 32, 'sampling': None}\n",
            "units_9 (Int)\n",
            "{'default': None, 'conditions': [], 'min_value': 32, 'max_value': 512, 'step': 32, 'sampling': None}\n",
            "units_10 (Int)\n",
            "{'default': None, 'conditions': [], 'min_value': 32, 'max_value': 512, 'step': 32, 'sampling': None}\n",
            "units_11 (Int)\n",
            "{'default': None, 'conditions': [], 'min_value': 32, 'max_value': 512, 'step': 32, 'sampling': None}\n",
            "units_12 (Int)\n",
            "{'default': None, 'conditions': [], 'min_value': 32, 'max_value': 512, 'step': 32, 'sampling': None}\n",
            "units_13 (Int)\n",
            "{'default': None, 'conditions': [], 'min_value': 32, 'max_value': 512, 'step': 32, 'sampling': None}\n",
            "units_14 (Int)\n",
            "{'default': None, 'conditions': [], 'min_value': 32, 'max_value': 512, 'step': 32, 'sampling': None}\n",
            "units_15 (Int)\n",
            "{'default': None, 'conditions': [], 'min_value': 32, 'max_value': 512, 'step': 32, 'sampling': None}\n",
            "units_16 (Int)\n",
            "{'default': None, 'conditions': [], 'min_value': 32, 'max_value': 512, 'step': 32, 'sampling': None}\n",
            "units_17 (Int)\n",
            "{'default': None, 'conditions': [], 'min_value': 32, 'max_value': 512, 'step': 32, 'sampling': None}\n",
            "units_18 (Int)\n",
            "{'default': None, 'conditions': [], 'min_value': 32, 'max_value': 512, 'step': 32, 'sampling': None}\n",
            "units_19 (Int)\n",
            "{'default': None, 'conditions': [], 'min_value': 32, 'max_value': 512, 'step': 32, 'sampling': None}\n"
          ]
        }
      ],
      "source": [
        "tuner.search_space_summary()"
      ]
    },
    {
      "cell_type": "code",
      "execution_count": 38,
      "metadata": {
        "id": "aUK_-XQMJR6a"
      },
      "outputs": [
        {
          "name": "stdout",
          "output_type": "stream",
          "text": [
            "INFO:tensorflow:Oracle triggered exit\n"
          ]
        }
      ],
      "source": [
        "tuner.search(X_train, Y_train,epochs=5,validation_data=(X_test, Y_test))"
      ]
    },
    {
      "cell_type": "code",
      "execution_count": 39,
      "metadata": {
        "id": "18CzYjsWLCES"
      },
      "outputs": [
        {
          "name": "stdout",
          "output_type": "stream",
          "text": [
            "Results summary\n",
            "Results in project\\Power Consumption1\n",
            "Showing 10 best trials\n",
            "<keras_tuner.engine.objective.Objective object at 0x000001485871B460>\n",
            "Trial summary\n",
            "Hyperparameters:\n",
            "num_layers: 11\n",
            "units_0: 512\n",
            "units_1: 512\n",
            "learning_rate: 0.0001\n",
            "units_2: 416\n",
            "units_3: 448\n",
            "units_4: 416\n",
            "units_5: 512\n",
            "units_6: 256\n",
            "units_7: 384\n",
            "units_8: 384\n",
            "units_9: 416\n",
            "units_10: 416\n",
            "units_11: 448\n",
            "units_12: 416\n",
            "Score: 1989.2222900390625\n",
            "Trial summary\n",
            "Hyperparameters:\n",
            "num_layers: 20\n",
            "units_0: 416\n",
            "units_1: 480\n",
            "learning_rate: 0.001\n",
            "units_2: 448\n",
            "units_3: 128\n",
            "units_4: 224\n",
            "units_5: 256\n",
            "units_6: 32\n",
            "units_7: 96\n",
            "units_8: 224\n",
            "units_9: 160\n",
            "units_10: 352\n",
            "units_11: 448\n",
            "units_12: 64\n",
            "units_13: 32\n",
            "units_14: 32\n",
            "units_15: 32\n",
            "units_16: 32\n",
            "units_17: 32\n",
            "units_18: 32\n",
            "units_19: 32\n",
            "Score: 1999.6849772135417\n",
            "Trial summary\n",
            "Hyperparameters:\n",
            "num_layers: 17\n",
            "units_0: 448\n",
            "units_1: 448\n",
            "learning_rate: 0.01\n",
            "units_2: 288\n",
            "units_3: 32\n",
            "units_4: 512\n",
            "units_5: 288\n",
            "units_6: 224\n",
            "units_7: 320\n",
            "units_8: 192\n",
            "units_9: 224\n",
            "units_10: 64\n",
            "units_11: 352\n",
            "units_12: 192\n",
            "units_13: 96\n",
            "units_14: 352\n",
            "units_15: 224\n",
            "units_16: 160\n",
            "units_17: 320\n",
            "units_18: 192\n",
            "units_19: 384\n",
            "Score: 2076.314900716146\n",
            "Trial summary\n",
            "Hyperparameters:\n",
            "num_layers: 13\n",
            "units_0: 320\n",
            "units_1: 128\n",
            "learning_rate: 0.01\n",
            "units_2: 32\n",
            "units_3: 32\n",
            "units_4: 32\n",
            "units_5: 32\n",
            "units_6: 32\n",
            "units_7: 32\n",
            "units_8: 32\n",
            "units_9: 32\n",
            "units_10: 32\n",
            "units_11: 32\n",
            "units_12: 32\n",
            "Score: 2079.785888671875\n",
            "Trial summary\n",
            "Hyperparameters:\n",
            "num_layers: 7\n",
            "units_0: 352\n",
            "units_1: 416\n",
            "learning_rate: 0.01\n",
            "units_2: 320\n",
            "units_3: 128\n",
            "units_4: 480\n",
            "units_5: 128\n",
            "units_6: 384\n",
            "units_7: 64\n",
            "units_8: 32\n",
            "units_9: 32\n",
            "units_10: 96\n",
            "units_11: 192\n",
            "units_12: 448\n",
            "units_13: 384\n",
            "units_14: 160\n",
            "units_15: 64\n",
            "units_16: 224\n",
            "units_17: 416\n",
            "units_18: 384\n",
            "units_19: 480\n",
            "Score: 2146.273478190104\n"
          ]
        }
      ],
      "source": [
        "tuner.results_summary()"
      ]
    },
    {
      "cell_type": "code",
      "execution_count": null,
      "metadata": {
        "id": "7a4SKOaPVCqb"
      },
      "outputs": [],
      "source": []
    },
    {
      "cell_type": "markdown",
      "metadata": {
        "id": "9OjfdNrpZ3IL"
      },
      "source": [
        "Classification Problem With GridSearchCV"
      ]
    },
    {
      "cell_type": "code",
      "execution_count": 40,
      "metadata": {
        "id": "o8tpNYs2Z0cw"
      },
      "outputs": [],
      "source": [
        "# Importing the libraries\n",
        "import numpy as np\n",
        "import matplotlib.pyplot as plt\n",
        "import pandas as pd"
      ]
    },
    {
      "cell_type": "code",
      "execution_count": 41,
      "metadata": {
        "id": "6qrh-P_9aDQq"
      },
      "outputs": [],
      "source": [
        "from keras.models import Sequential\n",
        "from keras.layers import Dense, Activation, Embedding, Flatten, LeakyReLU, BatchNormalization, Dropout\n",
        "from keras.activations import relu, sigmoid\n",
        "from sklearn.preprocessing import StandardScaler"
      ]
    },
    {
      "cell_type": "code",
      "execution_count": 42,
      "metadata": {
        "id": "px2Nxui8aFoB"
      },
      "outputs": [],
      "source": [
        "# Importing the dataset\n",
        "dataset = pd.read_csv(\"C:/Users/vipul/OneDrive/Desktop/dl dataset/Churn_Modelling.csv\")\n",
        "X = dataset.iloc[:, 3:13].values\n",
        "y = dataset.iloc[:, 13].values"
      ]
    },
    {
      "cell_type": "code",
      "execution_count": 43,
      "metadata": {
        "colab": {
          "base_uri": "https://localhost:8080/",
          "height": 270
        },
        "id": "wLA0Dj2kaK7e",
        "outputId": "2f51e9e4-a5da-4779-976f-cf48bc1e9f50"
      },
      "outputs": [
        {
          "data": {
            "text/html": [
              "<div>\n",
              "<style scoped>\n",
              "    .dataframe tbody tr th:only-of-type {\n",
              "        vertical-align: middle;\n",
              "    }\n",
              "\n",
              "    .dataframe tbody tr th {\n",
              "        vertical-align: top;\n",
              "    }\n",
              "\n",
              "    .dataframe thead th {\n",
              "        text-align: right;\n",
              "    }\n",
              "</style>\n",
              "<table border=\"1\" class=\"dataframe\">\n",
              "  <thead>\n",
              "    <tr style=\"text-align: right;\">\n",
              "      <th></th>\n",
              "      <th>RowNumber</th>\n",
              "      <th>CustomerId</th>\n",
              "      <th>Surname</th>\n",
              "      <th>CreditScore</th>\n",
              "      <th>Geography</th>\n",
              "      <th>Gender</th>\n",
              "      <th>Age</th>\n",
              "      <th>Tenure</th>\n",
              "      <th>Balance</th>\n",
              "      <th>NumOfProducts</th>\n",
              "      <th>HasCrCard</th>\n",
              "      <th>IsActiveMember</th>\n",
              "      <th>EstimatedSalary</th>\n",
              "      <th>Exited</th>\n",
              "    </tr>\n",
              "  </thead>\n",
              "  <tbody>\n",
              "    <tr>\n",
              "      <th>0</th>\n",
              "      <td>1</td>\n",
              "      <td>15634602</td>\n",
              "      <td>Hargrave</td>\n",
              "      <td>619</td>\n",
              "      <td>France</td>\n",
              "      <td>Female</td>\n",
              "      <td>42</td>\n",
              "      <td>2</td>\n",
              "      <td>0.00</td>\n",
              "      <td>1</td>\n",
              "      <td>1</td>\n",
              "      <td>1</td>\n",
              "      <td>101348.88</td>\n",
              "      <td>1</td>\n",
              "    </tr>\n",
              "    <tr>\n",
              "      <th>1</th>\n",
              "      <td>2</td>\n",
              "      <td>15647311</td>\n",
              "      <td>Hill</td>\n",
              "      <td>608</td>\n",
              "      <td>Spain</td>\n",
              "      <td>Female</td>\n",
              "      <td>41</td>\n",
              "      <td>1</td>\n",
              "      <td>83807.86</td>\n",
              "      <td>1</td>\n",
              "      <td>0</td>\n",
              "      <td>1</td>\n",
              "      <td>112542.58</td>\n",
              "      <td>0</td>\n",
              "    </tr>\n",
              "    <tr>\n",
              "      <th>2</th>\n",
              "      <td>3</td>\n",
              "      <td>15619304</td>\n",
              "      <td>Onio</td>\n",
              "      <td>502</td>\n",
              "      <td>France</td>\n",
              "      <td>Female</td>\n",
              "      <td>42</td>\n",
              "      <td>8</td>\n",
              "      <td>159660.80</td>\n",
              "      <td>3</td>\n",
              "      <td>1</td>\n",
              "      <td>0</td>\n",
              "      <td>113931.57</td>\n",
              "      <td>1</td>\n",
              "    </tr>\n",
              "    <tr>\n",
              "      <th>3</th>\n",
              "      <td>4</td>\n",
              "      <td>15701354</td>\n",
              "      <td>Boni</td>\n",
              "      <td>699</td>\n",
              "      <td>France</td>\n",
              "      <td>Female</td>\n",
              "      <td>39</td>\n",
              "      <td>1</td>\n",
              "      <td>0.00</td>\n",
              "      <td>2</td>\n",
              "      <td>0</td>\n",
              "      <td>0</td>\n",
              "      <td>93826.63</td>\n",
              "      <td>0</td>\n",
              "    </tr>\n",
              "    <tr>\n",
              "      <th>4</th>\n",
              "      <td>5</td>\n",
              "      <td>15737888</td>\n",
              "      <td>Mitchell</td>\n",
              "      <td>850</td>\n",
              "      <td>Spain</td>\n",
              "      <td>Female</td>\n",
              "      <td>43</td>\n",
              "      <td>2</td>\n",
              "      <td>125510.82</td>\n",
              "      <td>1</td>\n",
              "      <td>1</td>\n",
              "      <td>1</td>\n",
              "      <td>79084.10</td>\n",
              "      <td>0</td>\n",
              "    </tr>\n",
              "  </tbody>\n",
              "</table>\n",
              "</div>"
            ],
            "text/plain": [
              "   RowNumber  CustomerId   Surname  CreditScore Geography  Gender  Age  \\\n",
              "0          1    15634602  Hargrave          619    France  Female   42   \n",
              "1          2    15647311      Hill          608     Spain  Female   41   \n",
              "2          3    15619304      Onio          502    France  Female   42   \n",
              "3          4    15701354      Boni          699    France  Female   39   \n",
              "4          5    15737888  Mitchell          850     Spain  Female   43   \n",
              "\n",
              "   Tenure    Balance  NumOfProducts  HasCrCard  IsActiveMember  \\\n",
              "0       2       0.00              1          1               1   \n",
              "1       1   83807.86              1          0               1   \n",
              "2       8  159660.80              3          1               0   \n",
              "3       1       0.00              2          0               0   \n",
              "4       2  125510.82              1          1               1   \n",
              "\n",
              "   EstimatedSalary  Exited  \n",
              "0        101348.88       1  \n",
              "1        112542.58       0  \n",
              "2        113931.57       1  \n",
              "3         93826.63       0  \n",
              "4         79084.10       0  "
            ]
          },
          "execution_count": 43,
          "metadata": {},
          "output_type": "execute_result"
        }
      ],
      "source": [
        "dataset.head()"
      ]
    },
    {
      "cell_type": "code",
      "execution_count": 44,
      "metadata": {
        "id": "A1oIw_BlaNIu"
      },
      "outputs": [],
      "source": [
        "# Encoding categorical data\n",
        "from sklearn.preprocessing import LabelEncoder, OneHotEncoder\n",
        "labelencoder_X_1 = LabelEncoder()\n",
        "X[:, 1] = labelencoder_X_1.fit_transform(X[:, 1])\n",
        "labelencoder_X_2 = LabelEncoder()\n",
        "X[:, 2] = labelencoder_X_2.fit_transform(X[:, 2])\n",
        "# onehotencoder = OneHotEncoder(max_categories= [1])\n",
        "# X = onehotencoder.fit_transform(X).toarray()\n",
        "\n",
        "from sklearn.compose import ColumnTransformer\n",
        "columnTransformer = ColumnTransformer([('encoder',OneHotEncoder(),[1])],remainder='passthrough')\n",
        "X=np.array(columnTransformer.fit_transform(X),dtype=str)\n",
        "X = X[:, 1:]"
      ]
    },
    {
      "cell_type": "code",
      "execution_count": 45,
      "metadata": {
        "id": "DJIpvkdlaPi5"
      },
      "outputs": [],
      "source": [
        "# Splitting the dataset into the Training set and Test set\n",
        "from sklearn.model_selection import train_test_split\n",
        "X_train, X_test, y_train, y_test = train_test_split(X, y, test_size = 0.2, random_state = 0)\n",
        "\n",
        "# Feature Scaling\n",
        "from sklearn.preprocessing import StandardScaler\n",
        "sc = StandardScaler()\n",
        "X_train = sc.fit_transform(X_train)\n",
        "X_test = sc.transform(X_test)"
      ]
    },
    {
      "cell_type": "code",
      "execution_count": 46,
      "metadata": {
        "id": "Kj63qM1kbxep"
      },
      "outputs": [],
      "source": [
        "from keras.wrappers.scikit_learn import KerasClassifier\n",
        "from sklearn.model_selection import GridSearchCV"
      ]
    },
    {
      "cell_type": "code",
      "execution_count": 47,
      "metadata": {
        "colab": {
          "base_uri": "https://localhost:8080/"
        },
        "id": "HhCmBZAtbzuU",
        "outputId": "90124d81-3e88-4edd-e188-f96775a27165"
      },
      "outputs": [
        {
          "name": "stderr",
          "output_type": "stream",
          "text": [
            "C:\\Users\\vipul\\AppData\\Local\\Temp\\ipykernel_4888\\3582075148.py:15: DeprecationWarning: KerasClassifier is deprecated, use Sci-Keras (https://github.com/adriangb/scikeras) instead. See https://www.adriangb.com/scikeras/stable/migration.html for help migrating.\n",
            "  model = KerasClassifier(build_fn=create_model, verbose=0)\n"
          ]
        }
      ],
      "source": [
        "def create_model(layers, activation):\n",
        "    model = Sequential()\n",
        "    for i, nodes in enumerate(layers):\n",
        "        if i==0:\n",
        "            model.add(Dense(nodes,input_dim=X_train.shape[1]))\n",
        "            model.add(Activation(activation))\n",
        "        else:\n",
        "            model.add(Dense(nodes))\n",
        "            model.add(Activation(activation))\n",
        "    model.add(Dense(1)) # Note: no activation beyond this point\n",
        "    \n",
        "    model.compile(optimizer='adam', loss='binary_crossentropy',metrics=['accuracy'])\n",
        "    return model\n",
        "    \n",
        "model = KerasClassifier(build_fn=create_model, verbose=0)"
      ]
    },
    {
      "cell_type": "code",
      "execution_count": 48,
      "metadata": {
        "id": "dBVVdez9b7ES"
      },
      "outputs": [],
      "source": [
        "layers = [[20], [40, 20], [45, 30, 15]]\n",
        "activations = ['sigmoid', 'relu']\n",
        "param_grid = dict(layers=layers, activation=activations, batch_size = [128, 256], epochs=[30])\n",
        "grid = GridSearchCV(estimator=model, param_grid=param_grid)"
      ]
    },
    {
      "cell_type": "code",
      "execution_count": 49,
      "metadata": {
        "id": "D_WrbuBfb98L"
      },
      "outputs": [],
      "source": [
        "grid_result = grid.fit(X_train, y_train)"
      ]
    },
    {
      "cell_type": "code",
      "execution_count": 50,
      "metadata": {
        "colab": {
          "base_uri": "https://localhost:8080/"
        },
        "id": "qW6qamUbcABD",
        "outputId": "0e7f8160-f907-44b7-f34f-11fe648f8359"
      },
      "outputs": [
        {
          "data": {
            "text/plain": [
              "[0.8508749961853027,\n",
              " {'activation': 'relu',\n",
              "  'batch_size': 256,\n",
              "  'epochs': 30,\n",
              "  'layers': [45, 30, 15]}]"
            ]
          },
          "execution_count": 50,
          "metadata": {},
          "output_type": "execute_result"
        }
      ],
      "source": [
        "[grid_result.best_score_,grid_result.best_params_]"
      ]
    },
    {
      "cell_type": "code",
      "execution_count": 51,
      "metadata": {
        "id": "GaZ-BKzpcEWf"
      },
      "outputs": [
        {
          "name": "stdout",
          "output_type": "stream",
          "text": [
            "63/63 [==============================] - 0s 1ms/step\n"
          ]
        }
      ],
      "source": [
        "pred_y = grid.predict(X_test)"
      ]
    },
    {
      "cell_type": "code",
      "execution_count": 52,
      "metadata": {
        "id": "s9OLWDsTcET8"
      },
      "outputs": [],
      "source": [
        "y_pred = (pred_y > 0.5)"
      ]
    },
    {
      "cell_type": "code",
      "execution_count": 53,
      "metadata": {
        "colab": {
          "base_uri": "https://localhost:8080/"
        },
        "id": "BKLB7ENqcEQv",
        "outputId": "2462a9cb-ee80-4b64-91eb-1957fcfdce81"
      },
      "outputs": [
        {
          "data": {
            "text/plain": [
              "array([[False],\n",
              "       [False],\n",
              "       [False],\n",
              "       ...,\n",
              "       [False],\n",
              "       [False],\n",
              "       [False]])"
            ]
          },
          "execution_count": 53,
          "metadata": {},
          "output_type": "execute_result"
        }
      ],
      "source": [
        "y_pred"
      ]
    },
    {
      "cell_type": "code",
      "execution_count": 54,
      "metadata": {
        "id": "ecd7cGVAcL4R"
      },
      "outputs": [],
      "source": [
        "from sklearn.metrics import confusion_matrix\n",
        "cm = confusion_matrix(y_test, y_pred)"
      ]
    },
    {
      "cell_type": "code",
      "execution_count": 55,
      "metadata": {
        "colab": {
          "base_uri": "https://localhost:8080/"
        },
        "id": "b6bneyNNcOyS",
        "outputId": "ed375660-3368-423a-928e-a10d8c49d7fc"
      },
      "outputs": [
        {
          "data": {
            "text/plain": [
              "array([[1523,   72],\n",
              "       [ 215,  190]], dtype=int64)"
            ]
          },
          "execution_count": 55,
          "metadata": {},
          "output_type": "execute_result"
        }
      ],
      "source": [
        "cm"
      ]
    },
    {
      "cell_type": "code",
      "execution_count": 56,
      "metadata": {
        "id": "-fT0rXAncTjs"
      },
      "outputs": [],
      "source": [
        "from sklearn.metrics import accuracy_score\n",
        "score=accuracy_score(y_test,y_pred)"
      ]
    },
    {
      "cell_type": "code",
      "execution_count": 57,
      "metadata": {
        "colab": {
          "base_uri": "https://localhost:8080/"
        },
        "id": "1SToU6IccVU1",
        "outputId": "f8670878-9098-4075-933f-68defa288f3e"
      },
      "outputs": [
        {
          "data": {
            "text/plain": [
              "0.8565"
            ]
          },
          "execution_count": 57,
          "metadata": {},
          "output_type": "execute_result"
        }
      ],
      "source": [
        "score"
      ]
    },
    {
      "cell_type": "code",
      "execution_count": null,
      "metadata": {
        "id": "PVHcZkbodixU"
      },
      "outputs": [],
      "source": []
    }
  ],
  "metadata": {
    "accelerator": "GPU",
    "colab": {
      "collapsed_sections": [],
      "provenance": []
    },
    "gpuClass": "standard",
    "kernelspec": {
      "display_name": "Python 3.10.7 64-bit",
      "language": "python",
      "name": "python3"
    },
    "language_info": {
      "codemirror_mode": {
        "name": "ipython",
        "version": 3
      },
      "file_extension": ".py",
      "mimetype": "text/x-python",
      "name": "python",
      "nbconvert_exporter": "python",
      "pygments_lexer": "ipython3",
      "version": "3.10.7"
    },
    "vscode": {
      "interpreter": {
        "hash": "8ac39944b2ba2bbcb0061d8fe87e9d7b8b559740abe8f99ee18ab33eebdb0cd7"
      }
    }
  },
  "nbformat": 4,
  "nbformat_minor": 0
}
